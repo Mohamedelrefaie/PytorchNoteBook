{
  "nbformat": 4,
  "nbformat_minor": 0,
  "metadata": {
    "accelerator": "GPU",
    "colab": {
      "provenance": [],
      "include_colab_link": true
    },
    "kernelspec": {
      "display_name": "Python 3",
      "language": "python",
      "name": "python3"
    },
    "language_info": {
      "codemirror_mode": {
        "name": "ipython",
        "version": 3
      },
      "file_extension": ".py",
      "mimetype": "text/x-python",
      "name": "python",
      "nbconvert_exporter": "python",
      "pygments_lexer": "ipython3",
      "version": "3.6.9"
    }
  },
  "cells": [
    {
      "cell_type": "markdown",
      "metadata": {
        "id": "view-in-github",
        "colab_type": "text"
      },
      "source": [
        "<a href=\"https://colab.research.google.com/github/Mohamedelrefaie/PytorchNoteBook/blob/master/tutorial2_solution.ipynb\" target=\"_parent\"><img src=\"https://colab.research.google.com/assets/colab-badge.svg\" alt=\"Open In Colab\"/></a>"
      ]
    },
    {
      "cell_type": "markdown",
      "metadata": {
        "id": "hCF-G00urXB0"
      },
      "source": [
        "# Tutorial 2 - Intro to Machine Learning and basic Neural Networks"
      ]
    },
    {
      "cell_type": "markdown",
      "metadata": {
        "id": "PYWmYjq-rXB9"
      },
      "source": [
        "In this tutorial, you will implement all components of a simple neural network in Numpy. By training the neural network, you will familiarize yourself with machine learning problems and how to solve them."
      ]
    },
    {
      "cell_type": "code",
      "metadata": {
        "id": "i0VMelwirXB-"
      },
      "source": [
        "import numpy as np\n",
        "import matplotlib.pyplot as plt\n",
        "from sklearn.datasets import make_blobs"
      ],
      "execution_count": null,
      "outputs": []
    },
    {
      "cell_type": "markdown",
      "metadata": {
        "id": "Yncjy--SrXB_"
      },
      "source": [
        "We will again mount the Google drive:"
      ]
    },
    {
      "cell_type": "code",
      "metadata": {
        "colab": {
          "base_uri": "https://localhost:8080/"
        },
        "id": "Jdn4LQLErXB_",
        "outputId": "5c0143b6-5b5c-4221-e13d-45eab5831bca"
      },
      "source": [
        "from google.colab import drive\n",
        "drive.mount('/content/gdrive/')"
      ],
      "execution_count": null,
      "outputs": [
        {
          "output_type": "stream",
          "name": "stdout",
          "text": [
            "Drive already mounted at /content/gdrive/; to attempt to forcibly remount, call drive.mount(\"/content/gdrive/\", force_remount=True).\n"
          ]
        }
      ]
    },
    {
      "cell_type": "code",
      "metadata": {
        "id": "IGyR4MoSrXB_"
      },
      "source": [
        "import sys\n",
        "sys.path.append('/content/gdrive/My Drive/DL_tutorials/tutorial2')"
      ],
      "execution_count": null,
      "outputs": []
    },
    {
      "cell_type": "markdown",
      "metadata": {
        "id": "hnzXx1V9rXB_"
      },
      "source": [
        "### Generate sample datasets\n",
        "Feel free to skip reading the code of the cell below. These are just some helper functions for plotting and data generation."
      ]
    },
    {
      "cell_type": "code",
      "metadata": {
        "id": "j_5TniD5rXCA"
      },
      "source": [
        "def getToyData(N, D, K):\n",
        "    np.random.seed(0)\n",
        "    centers = []\n",
        "    for i in range(K):\n",
        "        centers.append([np.random.randint(0,10),np.random.randint(0,10)])\n",
        "        \n",
        "    samples, labels = make_blobs(N, D, centers=tuple(centers),random_state=0)\n",
        "    return samples, labels\n",
        "\n",
        "def getSpiralToyData(N, D, K):\n",
        "    X = np.zeros((N*K,D)) # data matrix (each row = single example)\n",
        "    y = np.zeros(N*K, dtype='uint8') # class labels\n",
        "    for j in range(K):\n",
        "        ix = range(N*j,N*(j+1))\n",
        "        r = np.linspace(0.0,1,N) # radius\n",
        "        t = np.linspace(j*4,(j+1)*4,N) + np.random.randn(N)*0.2 # theta\n",
        "        X[ix] = np.c_[r*np.sin(t), r*np.cos(t)]\n",
        "        y[ix] = j\n",
        "    return X, y\n",
        "\n",
        "# Plotting decision regions\n",
        "def plotDecisionBoundary(X, predict, pytorch_model_given=False):\n",
        "  \n",
        "    x_min, x_max = X[:, 0].min() - 1, X[:, 0].max() + 1\n",
        "    y_min, y_max = X[:, 1].min() - 1, X[:, 1].max() + 1\n",
        "    xx, yy = np.meshgrid(np.arange(x_min, x_max, 0.1),\n",
        "                        np.arange(y_min, y_max, 0.1))\n",
        "\n",
        "\n",
        "    data = np.c_[xx.ravel(), yy.ravel()]\n",
        "    preds = None\n",
        "    if pytorch_model_given:\n",
        "      data = torch.from_numpy(data).float()\n",
        "\n",
        "    preds = predict(data)\n",
        "\n",
        "    if pytorch_model_given:\n",
        "      preds = torch.argmax(preds, 1)\n",
        "      preds = preds.detach().numpy()    \n",
        "    \n",
        "    #preds = np.argmax(scores,axis=1)\n",
        "    Z = preds.reshape(xx.shape)\n",
        "\n",
        "    fig, ax = plt.subplots()\n",
        "    ax.contourf(xx, yy, Z, alpha=0.4)\n",
        "    ax.scatter(X[:, 0], X[:, 1], c=y, s=40, edgecolor='k')\n",
        "    ax.set_title('Learned Decision Boundary')\n",
        "\n",
        "    plt.show()\n",
        "\n",
        "\n",
        "\n",
        "def plotLossHistory(history):\n",
        "    plt.title('Loss History')\n",
        "    plt.ylabel('loss')\n",
        "    plt.xlabel('Iteration')\n",
        "    plt.plot(history)\n"
      ],
      "execution_count": null,
      "outputs": []
    },
    {
      "cell_type": "markdown",
      "metadata": {
        "id": "_SD-zKW3rXCA"
      },
      "source": [
        "#### Plot dataset\n"
      ]
    },
    {
      "cell_type": "code",
      "metadata": {
        "colab": {
          "base_uri": "https://localhost:8080/",
          "height": 334
        },
        "id": "B9wIjXZBrXCB",
        "outputId": "43646dad-ba07-4036-d476-5f8fe871dc09"
      },
      "source": [
        "# Dimensionality of the dataset --> important boundary condition for the network\n",
        "N = 100 # number of samples\n",
        "D = 2 # dimensionality: 2 input features\n",
        "K = 2 # number of classes\n",
        "\n",
        "X, y = getToyData(N, D, K)  # generate data\n",
        "print(X.shape)  # 2 input features for each sample\n",
        "print(y)  # class for each sample\n",
        "fig, ax = plt.subplots()\n",
        "scatter = ax.scatter(X[:, 0], X[:, 1], c=y)\n",
        "ax.legend(*scatter.legend_elements())\n",
        "plt.show()"
      ],
      "execution_count": null,
      "outputs": [
        {
          "output_type": "stream",
          "name": "stdout",
          "text": [
            "(100, 2)\n",
            "[0 1 0 1 1 0 0 1 0 0 1 0 1 1 1 0 1 1 1 1 1 0 0 0 0 0 0 0 0 1 0 0 1 1 1 1 1\n",
            " 0 1 1 0 1 1 1 1 0 0 0 0 1 0 0 0 0 0 1 0 1 1 1 1 1 1 1 0 0 0 1 1 0 0 1 0 1\n",
            " 0 0 0 1 0 1 1 1 1 0 1 1 0 1 0 1 0 0 0 1 0 0 1 0 1 0]\n"
          ]
        },
        {
          "output_type": "display_data",
          "data": {
            "text/plain": [
              "<Figure size 432x288 with 1 Axes>"
            ],
            "image/png": "[encoded data removed]"
          },
          "metadata": {
            "needs_background": "light"
          }
        }
      ]
    },
    {
      "cell_type": "markdown",
      "metadata": {
        "id": "qteE0IxDEalC"
      },
      "source": [
        "We will try to classify these points in the artificial dataset. In the big picture, these points will later represent images, texts, audios, etc."
      ]
    },
    {
      "cell_type": "markdown",
      "metadata": {
        "id": "6DkNpeuz2aK7"
      },
      "source": [
        "## A simple neural network\n",
        "\n",
        "We want to classify the points above according to their classes(0, 1). Let's see how PyTorch, the deep learning framework, can do it with very few lines of code.\n"
      ]
    },
    {
      "cell_type": "code",
      "metadata": {
        "colab": {
          "base_uri": "https://localhost:8080/",
          "height": 281
        },
        "id": "m_0NtNbW25Ib",
        "outputId": "ac88946f-f033-4f84-9235-a960fd4301f2"
      },
      "source": [
        "import torch\n",
        "import torch.nn as nn # neural network module\n",
        "import torch.optim as optim # optimizer module\n",
        "torch.manual_seed(10) # use arandom seed to make experiment reproducible\n",
        "\n",
        "# PyTorch works with its own dataclass: torch tensors.\n",
        "X_gpu = torch.from_numpy(X).float() #  convert numpy CPU tensor into a PyTorch tensor\n",
        "y_gpu = torch.from_numpy(y)\n",
        "\n",
        "# initialize components of learning pipelines: Are intialized as instances of respective classes!\n",
        "neural_net = nn.Linear(in_features=D, out_features=K) # Fully connected neural network with D=2 input features and K=2 classes.\n",
        "optimizer = optim.SGD(params=neural_net.parameters(), lr=1e-5) # stochastic gradient descent optimizer with learning rate 10^(-5)\n",
        "criterion = nn.CrossEntropyLoss() # loss function\n",
        "\n",
        "# forward\n",
        "outputs = neural_net(X_gpu) # forward pass\n",
        "loss = criterion(outputs, y_gpu) # calculate loss\n",
        "\n",
        "loss.backward() # backward pass: We call the instance method 'backward' of our loss instance to compute the gradient\n",
        "optimizer.step() # update neural net with gradiens using the instance method 'step' of our optimizer instance\n",
        "# it should be apparent why we had to initialize the optimizer instance above with all neural network parameters\n",
        "\n",
        "predictions = torch.argmax(neural_net(X_gpu), 1) # Get predictions on data after training\n",
        "\n",
        "\n",
        "plotDecisionBoundary(X, neural_net.forward, pytorch_model_given=True)"
      ],
      "execution_count": null,
      "outputs": [
        {
          "output_type": "display_data",
          "data": {
            "text/plain": [
              "<Figure size 432x288 with 1 Axes>"
            ],
            "image/png": "[encoded data removed]"
          },
          "metadata": {
            "needs_background": "light"
          }
        }
      ]
    },
    {
      "cell_type": "markdown",
      "metadata": {
        "id": "JjFpQ1LiFUqz"
      },
      "source": [
        "As you can see, we were able to classify most of the points using a very simple fully connected neural network with no hidden layers and with only 1 SGD update step. Observe the following tasks tackled by high level PyTorch functions. \n",
        "\n",
        "- A neural network model with weights and biases:  `neural_net = nn.Linear(in_features=D, out_features=K)`\n",
        "- An optimizer which takes the gradients and model parameters, then updates the model:<br/> `optimizer = optim.SGD(params=neural_net.parameters(), lr=1e-5)`\n",
        "- A loss function: `criterion = nn.CrossEntropyLoss()`\n",
        "- Forward pass of the network: `outputs = neural_net(X_gpu)`\n",
        "- Loss calculation: `loss = criterion(outputs, y_gpu)`\n",
        "- Calculating gradients (backward pass of the network): `loss.backward()`\n",
        "- Updating parameters of the model with the optimizer: `optimizer.step()`"
      ]
    },
    {
      "cell_type": "markdown",
      "metadata": {
        "id": "1RQGcpzpK3c8"
      },
      "source": [
        "Easy? Right. Now, we will dive into each of these components to understand what's going on under the hood. We will implement these functionalities on a matrix multiplication level in Numpy."
      ]
    },
    {
      "cell_type": "markdown",
      "metadata": {
        "id": "b_CV0T-1AX36"
      },
      "source": [
        "## PyTorch vs Numpy\n",
        "\n",
        "We will use Numpy to understand the underlying computations. Numpy is a generic computation library for Python whereas PyTorch is a deep learning focused framework with GPU acceleration. We need to run the computations on the GPU most of the time since the matrix multiplications we are dealing with are usually too extensive for a CPU."
      ]
    },
    {
      "cell_type": "markdown",
      "metadata": {
        "id": "kWssiMcbA7uI"
      },
      "source": [
        "## Correspondence of PyTorch and Numpy\n",
        "\n",
        "Remember, a fully connected network (linear layer) can be created in PyTorch with `nn.Linear(in_features=D, out_features=K)`.\n",
        "\n",
        "Let's implement the same thing in Numpy. We need to define the forward pass and the backward pass for each layer we implement. Look at the definition of the computations in the lecture slides. We (and you) will implement all functions to operate on a (mini-)batch of data for mini-batch gradient descent."
      ]
    },
    {
      "cell_type": "code",
      "metadata": {
        "id": "O9WUM972A6o5"
      },
      "source": [
        "# Fully Connected Layer (also referred to as affine layer):\n",
        "# input: (N,D) - numpy array of inputs where N is the number of samples of dimension D\n",
        "# weights: (D,H) - array of weights D - dimension of input layer , H - dimension of output layer\n",
        "# bias: (H,) bias terms\n",
        "# returns: (N,H) - affine operation result \n",
        "def linear_forward(X, W, b):\n",
        "    # We implement the multiplication of weights (not biases) with the whole mini-batch \n",
        "    #       via a single matrix-matrix product\n",
        "    # We use broadcasting over the batch-dimension for biases\n",
        "    scores = np.dot(X, W) + b\n",
        "    assert (scores.shape == (X.shape[0], W.shape[1]))\n",
        "    return scores\n",
        "\n",
        "\n",
        "# This function computes gradients of a linear forward function wrt its inputs (X, W, b)\n",
        "# inputs (X, W, b) : cache saved during forward pass\n",
        "# dout - (N,H) incoming local gradients of shape -  (N,H) \n",
        "# returns: dX - gradient wrt X with same shape as X - (N,D)  --> needed to propagate local gradients upstream\n",
        "# returns: dW - gradient wrt W with same shape as W -(D, H)\n",
        "# returns: db - gradient wrt b with same shape as b - (H)\n",
        "##############\n",
        "##############\n",
        "\n",
        "# TODO: observe how gradients are computed - compare computation of weights gradient with slide 41 \n",
        "# (no code writing necessary here)\n",
        "\n",
        "##############\n",
        "##############\n",
        "def linear_backward(X, W, b, dout):\n",
        "    dX = np.dot(dout, W.T)\n",
        "    dW = np.dot(X.T, dout)\n",
        "    db = np.sum(dout, axis=0)\n",
        "    return dX, dW, db\n"
      ],
      "execution_count": null,
      "outputs": []
    },
    {
      "cell_type": "markdown",
      "metadata": {
        "id": "Pk1wixG7rXCR"
      },
      "source": [
        "## Verify Gradients\n",
        "We can use a Finite Difference approximation to check the implementation of the backward pass. This is a common method to check if a model is implemented correctly and one of the first things to consider whenever a neural network is not learning properly.\n",
        "If the implementation is correct, the relative error between the Finite Difference approximation and\n",
        "the analytic gradients computed by Backpropagation should be less than 1e-6 for each of W and b. \n",
        "The Finite Difference Scheme is already implemented for you. \n"
      ]
    },
    {
      "cell_type": "code",
      "metadata": {
        "id": "zaODppqKrXCS"
      },
      "source": [
        "# some helper methods to evaluate numerical gradient\n",
        "from gradient_check import eval_numerical_gradient_array\n",
        "from gradient_check import eval_numerical_gradient\n",
        "\n",
        "def rel_error(x, y):\n",
        "  \"\"\" returns relative error \"\"\"\n",
        "  return np.max(np.abs(x - y) / (np.maximum(1e-8, np.abs(x) + np.abs(y))))"
      ],
      "execution_count": null,
      "outputs": []
    },
    {
      "cell_type": "markdown",
      "metadata": {
        "id": "X7sod5NfrXCT"
      },
      "source": [
        "#### Test fully connected forward and backward functions"
      ]
    },
    {
      "cell_type": "code",
      "metadata": {
        "colab": {
          "base_uri": "https://localhost:8080/"
        },
        "id": "Ta_5YIc1rXCT",
        "outputId": "8ba12df3-acc8-4819-dde9-8bff877b0310"
      },
      "source": [
        "x = np.random.randn(10, 6)\n",
        "w = np.random.randn(6, 5)\n",
        "b = np.random.randn(5)\n",
        "dout = np.random.randn(10, 5)\n",
        "\n",
        "dx_num = eval_numerical_gradient_array(lambda x: linear_forward(x, w, b), x, dout)\n",
        "dw_num = eval_numerical_gradient_array(lambda w: linear_forward(x, w, b), w, dout)\n",
        "db_num = eval_numerical_gradient_array(lambda b: linear_forward(x, w, b), b, dout)\n",
        "\n",
        "\n",
        "dx, dw, db = linear_backward(x, w, b, dout)\n",
        "\n",
        "print('dx error: ', rel_error(dx_num, dx))\n",
        "print('dw error: ', rel_error(dw_num, dw))\n",
        "print('db error: ', rel_error(db_num, db))"
      ],
      "execution_count": null,
      "outputs": [
        {
          "output_type": "stream",
          "name": "stdout",
          "text": [
            "dx error:  5.77576886607126e-10\n",
            "dw error:  5.803530379495435e-11\n",
            "db error:  5.672728185971e-12\n"
          ]
        }
      ]
    },
    {
      "cell_type": "markdown",
      "metadata": {
        "id": "u3ogh7eZFF9j"
      },
      "source": [
        "We have implemented both forward pass and backward pass for fully connected (affine) layer. It has the same functionality as `nn.Linear(in_features=D, out_features=K)` in PyTorch."
      ]
    },
    {
      "cell_type": "markdown",
      "metadata": {
        "id": "Dceif83wCqFM"
      },
      "source": [
        "## ReLU\n",
        "Now, it's your turn. Implement the forward pass and backward pass of ReLU using the code below. Note: Set gradient = 0 if x = 0. \n",
        "\n",
        "The derivative is simple, remember that ReLU is a picewise linear function and the derivative of a line is a very simple calculation."
      ]
    },
    {
      "cell_type": "code",
      "metadata": {
        "id": "nII2LJU7C0J9"
      },
      "source": [
        "# ReLU activation\n",
        "# input (N,H) - output of fully connected layer, where N is number of samples in the mini-batch and H is hidden layer size\n",
        "# return (N,H) - ReLU activated outputs\n",
        "# Hint: In Python, boolean True is treated as 1 and boolean False is treated as 0.\n",
        "#       It will be cast accordingly when applying arithmetic operators together with int/floats\n",
        "def relu_forward(inputs):\n",
        "    out = None\n",
        "    ##############\n",
        "    ##############\n",
        "\n",
        "    # TODO: apply the ReLU activation function to the inputs and save the obtained value in the variable 'out'\n",
        "    out = (inputs > 0) * inputs\n",
        "\n",
        "    ##############\n",
        "    ##############\n",
        "    return out\n",
        "\n",
        "\n",
        "# compute gradient of ReLU function\n",
        "# input:  dout - (N,D) back-flowing local gradients\n",
        "# returns: out - (N,D) gradient of ReLU wrt its input from last affine layer \n",
        "def relu_backward(cache, dout):\n",
        "    inputs = cache  # we saved the inputs into ReLU (i.e. z)  during the forward pass\n",
        "    out = None\n",
        "    ##############\n",
        "    ##############\n",
        "\n",
        "    # TODO: compute the gradient of ReLU activation function and save the obtained value in the variable 'out'\n",
        "    out = (inputs > 0) * dout\n",
        "\n",
        "    ##############\n",
        "    ##############\n",
        "    assert (out.shape == dout.shape)\n",
        "    return out\n"
      ],
      "execution_count": null,
      "outputs": []
    },
    {
      "cell_type": "markdown",
      "metadata": {
        "id": "4aBRlDzlrXCT"
      },
      "source": [
        "#### Test relu forward and backward functions"
      ]
    },
    {
      "cell_type": "markdown",
      "source": [
        "Now you can verify if your ReLU backward implementation is correct by comparing with the numerical gradient as we did previously."
      ],
      "metadata": {
        "id": "VTxyNG86aHc5"
      }
    },
    {
      "cell_type": "code",
      "metadata": {
        "colab": {
          "base_uri": "https://localhost:8080/"
        },
        "id": "UAM7AjQBrXCT",
        "outputId": "4f023c31-067b-4203-a313-c71437d6aefb"
      },
      "source": [
        "x = np.random.randn(10, 10)\n",
        "dout = np.random.randn(*x.shape)\n",
        "\n",
        "dx_num = eval_numerical_gradient_array(lambda x: relu_forward(x), x, dout)\n",
        "dx = relu_backward(x, dout)\n",
        "\n",
        "# The error should be around 1e-12\n",
        "print('Testing relu_backward function:')\n",
        "print('dx error: ', rel_error(dx_num, dx))"
      ],
      "execution_count": null,
      "outputs": [
        {
          "output_type": "stream",
          "name": "stdout",
          "text": [
            "Testing relu_backward function:\n",
            "dx error:  3.2756201921578e-12\n"
          ]
        }
      ]
    },
    {
      "cell_type": "markdown",
      "metadata": {
        "id": "8inOoFDYFhaX"
      },
      "source": [
        "Now, we have implemented the equivalent of `nn.ReLU()` in PyTorch!"
      ]
    },
    {
      "cell_type": "markdown",
      "metadata": {
        "id": "_PcSwdIQD2BO"
      },
      "source": [
        "## Softmax\n",
        "\n",
        "Let's implement only the forward pass of Softmax and Cross Entropy Loss. We'll implement the backward pass later on. We will provide the code for the Softmax. Check the code carefully. Then implement the forward pass of Cross Entropy Loss using the softmax we've provided. "
      ]
    },
    {
      "cell_type": "code",
      "metadata": {
        "id": "zCyKi1OnrXCO"
      },
      "source": [
        "# Softmax: Normalize the predicted logits to per class probability\n",
        "# Logits refers to pseudo-probabilities, i.e. probability-like values that are not scaled to a range of [0,1]\n",
        "# The scaling to a range of [0,1] will be done using the softmap function.\n",
        "\n",
        "# logits: (N,K) - numpy array of logits, where N is the number of samples and K is the number of classes\n",
        "# returns: (N,K) - class probabilities \n",
        "def softmax(logits):\n",
        "    # probs = np.exp(logits)  # might experience overflow\n",
        "    # better: softmax(x + c) = softmax(x) --> we can subtract maximum to avoid numerical overflow\n",
        "    probs = np.exp(logits - np.max(logits, axis=1, keepdims=True))\n",
        "    probs /= np.sum(probs, axis=1, keepdims=True)\n",
        "    assert (probs.shape == logits.shape)\n",
        "    return probs"
      ],
      "execution_count": null,
      "outputs": []
    },
    {
      "cell_type": "code",
      "metadata": {
        "id": "en2LfXiLrXCP"
      },
      "source": [
        "# Categorical cross entropy loss\n",
        "# logits (N,K) - class logits where N is number of samples and K is the number of classes\n",
        "# y (N,) - true class for each sample, where N is the number of samples\n",
        "# return loss - scalar categorical cross entropy loss\n",
        "# Note: input is logits per class, not probabilities\n",
        "# Hint: first use softmax for per class probabilities\n",
        "# Hint: use loss equation in blue boxes on slide 27\n",
        "# Hint: use my_probability_array[np.arange(N), y] to select probabilities of the true class (see what is does!)\n",
        "def cross_entropy_loss(logits, y):\n",
        "    loss = None\n",
        "    N = logits.shape[0]\n",
        "    ##############\n",
        "    ##############\n",
        "\n",
        "    # TODO: compute the cross entropy loss and save it in the variable 'loss'\n",
        "    probs = softmax(logits)\n",
        "    positive_probabilities = probs[np.arange(N), y]  # selects predicted probabilitiy of true class (for both samples)\n",
        "    loss = np.mean(-np.log(positive_probabilities))\n",
        "\n",
        "    ##############\n",
        "    ##############\n",
        "    return loss\n",
        "\n",
        "# Gradient of loss function wrt logits predicted for each class\n",
        "# input : logits - (N,K)\n",
        "# input : y - true class labels of size (N)\n",
        "# returns: out - gradient of loss wrt. logits of size (N,K)\n",
        "# Note: using the chain rule and some nice simplifications allows computation of the categorical cross entropy loss\n",
        "#       just as a function of softmaxes\n",
        "def cross_entropy_backward(logits, y):\n",
        "    N = logits.shape[0]\n",
        "    probs = softmax(logits)\n",
        "    out = probs.copy()\n",
        "    out[np.arange(N), y] -= 1\n",
        "    out /= N\n",
        "    assert (out.shape == logits.shape)\n",
        "    return out"
      ],
      "execution_count": null,
      "outputs": []
    },
    {
      "cell_type": "markdown",
      "metadata": {
        "id": "gk_3UHItmC7P"
      },
      "source": [
        "Now we have implemented `cross_entropy_loss` corresponding to `criterion = nn.CrossEntropyLoss()` in our first PyTorch example."
      ]
    },
    {
      "cell_type": "markdown",
      "metadata": {
        "id": "Zce7bDThrXCP"
      },
      "source": [
        "### An Example for predicting the class of a sample"
      ]
    },
    {
      "cell_type": "markdown",
      "metadata": {
        "id": "9sVT8tiXrXCQ"
      },
      "source": [
        "For simplicity, let's consider a linear multi-output perceptron (slide 14), i.e. no hidden layer and no activation function.\n",
        "\n",
        "If you've implemented `cross_entropy_loss` correctly, the loss in the example is approx. 1.596."
      ]
    },
    {
      "cell_type": "code",
      "metadata": {
        "colab": {
          "base_uri": "https://localhost:8080/"
        },
        "id": "ASDVgoh8rXCQ",
        "outputId": "02d8c2e5-0b33-46bb-c96f-348e7783faad"
      },
      "source": [
        "# Two points [3, 3] and [6, 0] that we want to classify: Our network processes the batch of data simultaneously\n",
        "x = np.asarray([[3, 3],[6, 0]]) # two 2-dimensional samples\n",
        "y = np.asarray([1, 0]) # class labels for these two points\n",
        "\n",
        "\n",
        "# the goal is to make the network learn weights that best classify our data\n",
        "# we start with random weights\n",
        "np.random.seed(0)\n",
        "W = np.random.randn(D, K)\n",
        "b = np.random.randn(K)\n",
        "\n",
        "# calculate logits: only single linear layer\n",
        "logits = linear_forward(x, W, b)\n",
        "\n",
        "# select classes with highest logits - is equivalent to highest class probability as softmax only re-scales\n",
        "predicted_class = np.argmax(logits, axis=1)\n",
        "print ('predicted class {0} for the point {1}'.format(predicted_class[0], x[0, :]))\n",
        "\n",
        "# we can also output probabilities\n",
        "probs = softmax(logits)\n",
        "print('Prediced Probabilities:\\n', probs)\n",
        "\n",
        "# calculate loss for predicted probabilities\n",
        "loss = cross_entropy_loss(logits, y)\n",
        "print ('loss: ', loss)\n"
      ],
      "execution_count": null,
      "outputs": [
        {
          "output_type": "stream",
          "name": "stdout",
          "text": [
            "predicted class 0 for the point [3 3]\n",
            "Prediced Probabilities:\n",
            " [[9.58910914e-01 4.10890860e-02]\n",
            " [9.99983763e-01 1.62369194e-05]]\n",
            "loss:  1.5960144888345227\n"
          ]
        }
      ]
    },
    {
      "cell_type": "markdown",
      "metadata": {
        "id": "3xJ3-ojNrXCQ"
      },
      "source": [
        "## Backpropagation\n",
        "\n",
        "Note: The untrained network confidently predicts both samples to belong to class 0 (with 95.8% / 99.9%).\n",
        "We need to update the weights such that the sample [3, 3] is correctly predicted to be from class 1.\n",
        "\n",
        "We minimize the loss iteratively using gradient descent. We take the derivative of the loss function such that we can update the weights to move the loss downhill."
      ]
    },
    {
      "cell_type": "markdown",
      "metadata": {
        "id": "b8YZTVm3rXCY"
      },
      "source": [
        "### Run backward pass to calculate gradients for weights and update the weights\n",
        "We'll simulate the behavior of `optimizer` in PyTorch.\n",
        "We've already implemented backward functions for `cross_entropy` and `linear`. <br/> TODO: Run one backward pass over the network and update the weights.\n",
        "\n",
        "0. Start from the `logits` predicted in the forward pass above and labels `y`\n",
        "1. Feed them into cross_entropy alongside their labels\n",
        "2. Store the gradients from cross_entropy, then feed them to the linear layer alongside its input, weights and biases.\n",
        "3. Update the network with the given learning rate\n",
        "\n",
        "Hint: Look at the function definitions of `cross_entropy_backward` and `linear_backward` above."
      ]
    },
    {
      "cell_type": "code",
      "metadata": {
        "id": "nzwhiERUrXCZ"
      },
      "source": [
        "learning_rate = 0.4\n",
        "\n",
        "##############\n",
        "##############\n",
        "\n",
        "# TODO: run one backward pass over the network and update the weights\n",
        "dout = cross_entropy_backward(logits, y)  # local gradients wrt. loss function\n",
        "dX, dW, db = linear_backward(x, W, b, dout)  # gradients wrt. weights, taking the local gradients as input\n",
        "# update the weights: walk in the negative direction of the gradient\n",
        "W -= learning_rate * dW\n",
        "b -= learning_rate * db\n",
        "\n",
        "##############\n",
        "##############"
      ],
      "execution_count": null,
      "outputs": []
    },
    {
      "cell_type": "markdown",
      "metadata": {
        "id": "8i4hb5kdmC7R"
      },
      "source": [
        "You can check if your implementation is correct by comparing your predicted probability for class 1 with the given value in the cell below."
      ]
    },
    {
      "cell_type": "markdown",
      "metadata": {
        "id": "2lrF0H-urXCZ"
      },
      "source": [
        "#### Calculate new per class scores with updated weights"
      ]
    },
    {
      "cell_type": "code",
      "metadata": {
        "colab": {
          "base_uri": "https://localhost:8080/"
        },
        "id": "SCl1wfD3rXCa",
        "outputId": "19b00de7-78ad-41e9-8a77-013811a8b0b2"
      },
      "source": [
        "logits = linear_forward(x, W, b)\n",
        "probs = softmax(logits)\n",
        "\n",
        "predicted_class = np.argmax(probs, axis=1)\n",
        "\n",
        "# now calcualte loss\n",
        "loss = cross_entropy_loss(logits, y)\n",
        "\n",
        "# print results\n",
        "print('Prediced Probabilities:\\n', probs)\n",
        "print ('Predicted class {0} for {1} '.format(predicted_class[0], x[0]))\n",
        "print ('loss: ', loss)"
      ],
      "execution_count": null,
      "outputs": [
        {
          "output_type": "stream",
          "name": "stdout",
          "text": [
            "Prediced Probabilities:\n",
            " [[0.01571122 0.98428878]\n",
            " [0.97681347 0.02318653]]\n",
            "Predicted class 1 for [3 3] \n",
            "loss:  0.019647762079878173\n"
          ]
        }
      ]
    },
    {
      "cell_type": "markdown",
      "metadata": {
        "id": "ekT7L1nsrXCa"
      },
      "source": [
        "One step in negative gradient direction yielded new weights resulting in a reduced loss. Now the network correctly predicts that [3, 3] belongs to class 1 (with probability 98.4%). Note that, in general, much more than 1 gradient descent step is needed."
      ]
    },
    {
      "cell_type": "markdown",
      "metadata": {
        "id": "8YOJA-34UHog"
      },
      "source": [
        "We have just implemented the following parts in the initial PyTorch example with Numpy. \n",
        "\n",
        "`loss.backward() # backward pass`\n",
        "\n",
        "`optimizer.step() # update neural net with gradients`"
      ]
    },
    {
      "cell_type": "markdown",
      "metadata": {
        "id": "hh2w4oYPrXCb"
      },
      "source": [
        "#### Run Gradient Descent on complete data"
      ]
    },
    {
      "cell_type": "markdown",
      "metadata": {
        "id": "MMIsGr90rXCb"
      },
      "source": [
        "We've now accomplished to learn from 2 samples. Even though our network can correctly classify these 2 examples, we really want the algorithm to learn to classify\n",
        "all examples in the dataset. We therefore compute gradients from more examples and  use them to iteratively apply the weight updates, until there is no more improvement.\n"
      ]
    },
    {
      "cell_type": "code",
      "metadata": {
        "id": "gCcwt3JxrXCb"
      },
      "source": [
        "##############\n",
        "##############\n",
        "\n",
        "# TODO: Try changing the parameters 'N', 'K', 'num_iters', 'learning_rate' and observe how these changes influence the training process\n",
        "\n",
        "\n",
        "N = 200 # number of samples\n",
        "K = 2 # number of classes\n",
        "\n",
        "D = 2\n",
        "X, y = getToyData(N, D, K)\n",
        "\n",
        "np.random.seed(0)\n",
        "W = np.random.randn(D,K)\n",
        "b = np.random.randn(K)\n",
        "\n",
        "num_iters = 20  # number of iterations\n",
        "learning_rate = 0.1\n",
        "loss_history = []\n",
        "\n",
        "##############\n",
        "##############\n",
        "\n",
        "# observe how the whole learning pipeline is implemented\n",
        "for i in range(num_iters):\n",
        "    # Forward pass\n",
        "    logits = linear_forward(X, W, b)\n",
        "    loss = cross_entropy_loss(logits, y)\n",
        "    loss_history.append(loss)\n",
        "\n",
        "    # Backward pass\n",
        "    dout = cross_entropy_backward(logits, y)\n",
        "    dX, dW, db = linear_backward(X, W, b, dout)\n",
        "\n",
        "    # update the weights\n",
        "    W -= learning_rate * dW\n",
        "    b -= learning_rate * db\n"
      ],
      "execution_count": null,
      "outputs": []
    },
    {
      "cell_type": "code",
      "metadata": {
        "colab": {
          "base_uri": "https://localhost:8080/",
          "height": 295
        },
        "id": "E2R5xYeQrXCb",
        "outputId": "3361271c-ee59-48d2-e387-aba7489c0333"
      },
      "source": [
        "plotLossHistory(loss_history)"
      ],
      "execution_count": null,
      "outputs": [
        {
          "output_type": "display_data",
          "data": {
            "text/plain": [
              "<Figure size 432x288 with 1 Axes>"
            ],
            "image/png": "[encoded data removed]"
          },
          "metadata": {
            "needs_background": "light"
          }
        }
      ]
    },
    {
      "cell_type": "code",
      "metadata": {
        "colab": {
          "base_uri": "https://localhost:8080/",
          "height": 281
        },
        "id": "xNeAs0rHrXCb",
        "outputId": "c3e3b698-4340-4667-d9a8-096392b42d22"
      },
      "source": [
        "# plot the learned decision region. Samples inside this region will be assigned the respectively colored class.\n",
        "predict = lambda x: np.argmax(linear_forward(x, W, b), axis=1)\n",
        "plotDecisionBoundary(X, predict)"
      ],
      "execution_count": null,
      "outputs": [
        {
          "output_type": "display_data",
          "data": {
            "text/plain": [
              "<Figure size 432x288 with 1 Axes>"
            ],
            "image/png": "[encoded data removed]"
          },
          "metadata": {
            "needs_background": "light"
          }
        }
      ]
    },
    {
      "cell_type": "markdown",
      "metadata": {
        "id": "hFh38_h4rXCc"
      },
      "source": [
        "## Develop a Neural Network "
      ]
    },
    {
      "cell_type": "markdown",
      "metadata": {
        "id": "4sW4s5WvrXCc"
      },
      "source": [
        "We have just developed the individual components that are part of the learning algorithm. Now we need to arrange them to have a more consistent interface allowing for a flexible definition of more advanced neural network architectures. The components of neural networks are best defined in terms of layer-by-layer operations. Each layer receives its input from the previous layer, performs some operations and passes the results to the next layer. It's best practice to structure layers in classes to have forward and backward functions stored together. This also allows easy caching of computed values during the forward pass for re-use in Backpropagation."
      ]
    },
    {
      "cell_type": "markdown",
      "metadata": {
        "id": "zdir8oPcrXCc"
      },
      "source": [
        "### Define layers\n",
        "\n",
        "Let's define a class called `Linear` in Numpy."
      ]
    },
    {
      "cell_type": "code",
      "metadata": {
        "id": "cUrU_2W-rXCc"
      },
      "source": [
        "class Linear:\n",
        "    def forward(self, inputs, weights, bias):\n",
        "        self.cache = (inputs, weights, bias)  # save inputs into affine layer for later use in Backprop\n",
        "        # using class attributes for this purpose is very handy as other functions of the class \n",
        "        #   automatically have access to these values\n",
        "        return linear_forward(inputs, weights, bias);\n",
        "    \n",
        "    def backward(self, dout):\n",
        "        inputs, weights, bias = self.cache # retrieve inputs that were saved during forward pass\n",
        "        dX, dW, db =  linear_backward(inputs, weights, bias, dout)\n",
        "        return dX, dW, db\n",
        "    "
      ],
      "execution_count": null,
      "outputs": []
    },
    {
      "cell_type": "markdown",
      "metadata": {
        "id": "pLgWBOfgWDUP"
      },
      "source": [
        "In PyTorch, we can call already defined layers. If we were to implement the linear layer as above with tensor operations we'd do it as follows (A more detailed PyTorch intro will be given in next tutorial, just try to understand the big picture for now)."
      ]
    },
    {
      "cell_type": "code",
      "metadata": {
        "id": "qZvhVCBaWOKX"
      },
      "source": [
        "class PyTorchLinear(nn.Module):\n",
        "    def __init__(self, in_features, out_features):\n",
        "        \n",
        "        # Initialize weights and biases in Constructor\n",
        "        # nn.Parameter is a class for variables that will be optimized: \n",
        "        #    They are tracked by autograd to automatically compute gradients\n",
        "        self.weight = nn.Parameter(torch.Tensor(out_features, in_features))\n",
        "        self.bias = nn.Parameter(torch.Tensor(out_features))\n",
        "        # weights and biases are stored conveniently as class attributes inside each layer instance\n",
        "    \n",
        "    def forward(self, input):\n",
        "        scores = torch.mm(input, self.weight) + self.bias # mm: matrix multiplication; same as in linear_forward\n",
        "        return scores"
      ],
      "execution_count": null,
      "outputs": []
    },
    {
      "cell_type": "markdown",
      "metadata": {
        "id": "bMMbko5FYaXO"
      },
      "source": [
        "Observe the differences: The most notable one is that we did not compute the backward explicitly. This is one of the most powerful features of deep learning frameworks. When you implement new layers you don't compute gradients manually, which might be very hard for complicated networks.\n",
        "In PyTorch, a method called *autograd* keeps a record of data (tensors) and all executed operations on them to compute the gradients using the chain rule. \n",
        "\n",
        "Nevertheless, it's very important to learn how gradients are computed and backpropogation works. It helps when designing new layers or finding out possible bottlenecks or bugs in the program.\n"
      ]
    },
    {
      "cell_type": "markdown",
      "metadata": {
        "id": "HHHNKrWGZwUO"
      },
      "source": [
        "Let's continue defining other layers. "
      ]
    },
    {
      "cell_type": "code",
      "metadata": {
        "id": "WZ2MHGNjrXCc"
      },
      "source": [
        "class Relu:\n",
        "    \n",
        "    def forward(self, inputs):\n",
        "        self.cache = inputs\n",
        "        out =  relu_forward(inputs);\n",
        "        return out\n",
        "    \n",
        "    def backward(self, dout):\n",
        "        out =  relu_backward(self.cache, dout)\n",
        "        assert(out.shape == dout.shape)  # verify out shape\n",
        "        return out"
      ],
      "execution_count": null,
      "outputs": []
    },
    {
      "cell_type": "markdown",
      "metadata": {
        "id": "YbaOxXwQZ5JD"
      },
      "source": [
        "**TODO:** Now fill in missing parts in the code below to define a CrossEntropyLoss class."
      ]
    },
    {
      "cell_type": "code",
      "metadata": {
        "id": "wWIbSw8VrXCc"
      },
      "source": [
        "class CrossEntropyLoss:\n",
        "    \n",
        "    # inputs: shape(N,K) unnormalized class scores\n",
        "    # y: shape (N) - true class labels\n",
        "    def forward(self, logits, y):\n",
        "        ##############\n",
        "        ##############\n",
        "\n",
        "        # TODO: calculate the cross entropy loss\n",
        "        out = cross_entropy_loss(logits, y)\n",
        "\n",
        "        ##############\n",
        "        ############## \n",
        "        self.cache = (logits, y)\n",
        "        return out\n",
        "    \n",
        "    def backward(self):\n",
        "        ##############\n",
        "        ##############\n",
        "\n",
        "        # TODO: calculate the cross entropy loss backward\n",
        "        # Hint: use self.cache\n",
        "        logits, y = self.cache\n",
        "        out = cross_entropy_backward(logits, y)\n",
        "\n",
        "        ##############\n",
        "        ############## \n",
        "        assert(out.shape == logits.shape)\n",
        "        return out"
      ],
      "execution_count": null,
      "outputs": []
    },
    {
      "cell_type": "markdown",
      "metadata": {
        "id": "dSJvfCshrXCd"
      },
      "source": [
        "### Define a simple Softmax Classifier using the defined Layers\n",
        "It is common to define a neural network model in a class for easy initialization, forward and backward passes. Complete the multi-output perceptron class below. If it trains properly, you will notice it in the resulting plot and then you know if you've successfully implemented the class. <br/>Hint: Use the layer classes defined above and the forward / backward functions they implement. You only need to think about what is input and output of each layer."
      ]
    },
    {
      "cell_type": "code",
      "metadata": {
        "id": "Qn4itbbprXCd"
      },
      "source": [
        "# One layer classifier\n",
        "class SoftmaxClassifier(object):\n",
        "    def __init__(self, input_size, output_size, std=1e-2):\n",
        "        self.loss_history = []\n",
        "        self.params = {}\n",
        "        self.params['W'] = std * np.random.randn(input_size, output_size)\n",
        "        self.params['b'] = np.zeros(output_size)\n",
        "        self.linear = None\n",
        "        self.cross_entropy = None        \n",
        "        ##############\n",
        "        ##############\n",
        "\n",
        "        # TODO: initialize linear and cross_entropy layers\n",
        "        # Hint: even though we did not explicitly code the __init__() function, we can still\n",
        "        #       call the class Constructor (with no inputs) to construct an instance of this class\n",
        "        # Hint: store initialized layer instances as SoftmaxClassifier instance attributes\n",
        "        self.linear = Linear()\n",
        "        self.cross_entropy = CrossEntropyLoss()\n",
        "\n",
        "        ##############\n",
        "        ############## \n",
        "    \n",
        "    # calculate loss\n",
        "    def loss(self, X, y, reg=0.0):\n",
        "        loss = None\n",
        "        W, b = self.params['W'], self.params['b']\n",
        "        ##############\n",
        "        ##############\n",
        "\n",
        "        # TODO: perform forward pass and compute loss\n",
        "        logits = self.linear.forward(X, W, b)\n",
        "        loss = self.cross_entropy.forward(logits, y)\n",
        "\n",
        "        ##############\n",
        "        ############## \n",
        "        return loss\n",
        "    \n",
        "    \n",
        "    def calculate_grads(self):\n",
        "        grads = {}\n",
        "        dW = None\n",
        "        db = None\n",
        "        ##############\n",
        "        ##############\n",
        "\n",
        "        # TODO: compute loss backward and perform backward pass\n",
        "        dout = self.cross_entropy.backward()\n",
        "        dX, dW, db = self.linear.backward(dout)\n",
        "\n",
        "        ##############\n",
        "        ############## \n",
        "        grads['W'] = dW\n",
        "        grads['b'] = db\n",
        "        return grads\n",
        "    \n",
        "    \n",
        "    # train using gradient descent\n",
        "    # X - training data features\n",
        "    # y - training data class labels\n",
        "    # learning_rate - SGD step size\n",
        "    # num_iters - number of iterations to run training\n",
        "    # verbose - if true, print the loss values at every nth iteration\n",
        "    def train(self, X, y, learning_rate=0.1, num_iters=100, verbose=True):\n",
        "        \n",
        "        for iteration in range(num_iters):\n",
        "            loss = self.loss(X, y)\n",
        "            grads = self.calculate_grads()\n",
        "            self.loss_history.append(loss)\n",
        "            ##############\n",
        "            ##############\n",
        "\n",
        "            # TODO: update the network parameters using new gradients\n",
        "            self.params['W'] -= learning_rate * grads['W']\n",
        "            self.params['b'] -= learning_rate * grads['b']\n",
        "\n",
        "            ##############\n",
        "            ############## \n",
        "            if verbose and iteration % 100 == 0:\n",
        "                print('iteration %d / %d: loss %f' % (iteration, num_iters, loss))\n",
        "        \n",
        "    \n",
        "    # predict class for each sample\n",
        "    # inputs : samples of shape (N, D)\n",
        "    # output : predictions of size (N) where for each prediction class should be 0<=prediction< K\n",
        "    def predict(self,inputs):\n",
        "        preds = None\n",
        "        W, b = self.params['W'], self.params['b']\n",
        "        ##############\n",
        "        ##############\n",
        "\n",
        "        # TODO: run forward pass and obtain predictions\n",
        "        logits = self.linear.forward(inputs, W, b)\n",
        "        preds = np.argmax(logits, axis=1)\n",
        "        \n",
        "        ##############\n",
        "        ############## \n",
        "        return preds"
      ],
      "execution_count": null,
      "outputs": []
    },
    {
      "cell_type": "markdown",
      "metadata": {
        "id": "QTlrd53xrXCd"
      },
      "source": [
        "Observe how easy training the classifier is, once we've created the SoftmaxClassifier class:"
      ]
    },
    {
      "cell_type": "code",
      "metadata": {
        "colab": {
          "base_uri": "https://localhost:8080/",
          "height": 906
        },
        "id": "L3rFrWpnrXCd",
        "scrolled": false,
        "outputId": "c6206b5d-eb36-4f22-e333-bd007ef5a9a7"
      },
      "source": [
        "# test it on the data\n",
        "N = 100 # number of samples\n",
        "D = 2 # dimensionality\n",
        "K = 3 # number of classes\n",
        "\n",
        "# generate spiraldata\n",
        "X, y = getSpiralToyData(N, D, K)\n",
        "\n",
        "# initialize classifier\n",
        "softmaxClassifier = SoftmaxClassifier(D, K)\n",
        "\n",
        "# train the classifier with the generated data\n",
        "softmaxClassifier.train(X, y, num_iters=2000)\n",
        "\n",
        "# plot the loss and decision boundary\n",
        "plotLossHistory(softmaxClassifier.loss_history)\n",
        "plotDecisionBoundary(X, softmaxClassifier.predict )"
      ],
      "execution_count": null,
      "outputs": [
        {
          "output_type": "stream",
          "name": "stdout",
          "text": [
            "iteration 0 / 2000: loss 1.100613\n",
            "iteration 100 / 2000: loss 0.920533\n",
            "iteration 200 / 2000: loss 0.850972\n",
            "iteration 300 / 2000: loss 0.818562\n",
            "iteration 400 / 2000: loss 0.801345\n",
            "iteration 500 / 2000: loss 0.791349\n",
            "iteration 600 / 2000: loss 0.785170\n",
            "iteration 700 / 2000: loss 0.781173\n",
            "iteration 800 / 2000: loss 0.778496\n",
            "iteration 900 / 2000: loss 0.776653\n",
            "iteration 1000 / 2000: loss 0.775359\n",
            "iteration 1100 / 2000: loss 0.774433\n",
            "iteration 1200 / 2000: loss 0.773762\n",
            "iteration 1300 / 2000: loss 0.773270\n",
            "iteration 1400 / 2000: loss 0.772906\n",
            "iteration 1500 / 2000: loss 0.772633\n",
            "iteration 1600 / 2000: loss 0.772429\n",
            "iteration 1700 / 2000: loss 0.772274\n",
            "iteration 1800 / 2000: loss 0.772157\n",
            "iteration 1900 / 2000: loss 0.772067\n"
          ]
        },
        {
          "output_type": "display_data",
          "data": {
            "text/plain": [
              "<Figure size 432x288 with 1 Axes>"
            ],
            "image/png": "[encoded data removed]"
          },
          "metadata": {
            "needs_background": "light"
          }
        },
        {
          "output_type": "display_data",
          "data": {
            "text/plain": [
              "<Figure size 432x288 with 1 Axes>"
            ],
            "image/png": "[encoded data removed]"
          },
          "metadata": {
            "needs_background": "light"
          }
        }
      ]
    },
    {
      "cell_type": "markdown",
      "metadata": {
        "id": "gwdLWX7qrXCe"
      },
      "source": [
        "**TODO**: Analyze the decision boundary above. \\\n",
        "**Question**: Can we get a perfect decision boundary using this linear multi-output perceptron?\n"
      ]
    },
    {
      "cell_type": "markdown",
      "metadata": {
        "id": "WJcM_kY0rXCe"
      },
      "source": [
        "Your answer here!\n",
        "* The data is not linearly separable.\n",
        "* As we have no non-linearity in the network, the network can only learn linear functions of input variables\n",
        "* The learned linear separation is visible in the plot above\n",
        "* We can therefore not get a perfect decision bounary!"
      ]
    },
    {
      "cell_type": "markdown",
      "metadata": {
        "id": "arFjiL2ErXCe"
      },
      "source": [
        "## Single Hidden Layer Network\n",
        "Let's build a higher capacity neural network with a hidden layer and a ReLU activation function. \n",
        "\n",
        "You can check if your implementation is correct if you can learn properly on the dataset below. <br/>\n",
        "Hint: The structure is the same as in the SoftmaxClassifier class above. Think about inputs and outputs of layers."
      ]
    },
    {
      "cell_type": "code",
      "metadata": {
        "id": "-BL3ap8IrXCe"
      },
      "source": [
        "# Two layer Neural Network\n",
        "class NeuralNetwork(object):\n",
        "    def __init__(self, input_size, hidden_size, output_size, std=0.01):\n",
        "        self.loss_history = []\n",
        "        \n",
        "        # Initializing weights (similar to the PyTorch sample class)\n",
        "        self.params = {}\n",
        "        self.params['W1'] = std * np.random.randn(input_size, hidden_size)\n",
        "        self.params['b1'] = np.zeros(hidden_size)\n",
        "        self.params['W2'] = std * np.random.randn(hidden_size, output_size)\n",
        "        self.params['b2'] = np.zeros(output_size)\n",
        "        \n",
        "        # we need 2 affine layers, 1 ReLU layer and the loss\n",
        "        ##############\n",
        "        ##############\n",
        "\n",
        "        # TODO: initialize layers\n",
        "        self.linear1 = Linear()\n",
        "        self.linear2 = Linear()\n",
        "        self.relu = Relu()\n",
        "        self.cross_entropy = CrossEntropyLoss()\n",
        "\n",
        "        ##############\n",
        "        ##############         \n",
        "        \n",
        "    \n",
        "    # calculate loss\n",
        "    def loss(self, X, y):\n",
        "        loss = None\n",
        "        W1, b1 = self.params['W1'], self.params['b1']\n",
        "        W2, b2 = self.params['W2'], self.params['b2']\n",
        "        ##############\n",
        "        ##############\n",
        "\n",
        "        # TODO: implement forward pass and calculate loss using cross entropy\n",
        "        # Hint: forward pass = affine->relu->affine->softmax+loss\n",
        "        o1 = self.linear1.forward(X, W1, b1)\n",
        "        a1 = self.relu.forward(o1)\n",
        "        a2 = self.linear2.forward(a1, W2, b2)\n",
        "        loss = self.cross_entropy.forward(a2, y)\n",
        "\n",
        "        ##############\n",
        "        ##############    \n",
        "        return loss\n",
        "     \n",
        "    \n",
        "    def calculate_grads(self):\n",
        "        grads = {}\n",
        "        dW1, dW2, db1, db2 = None, None, None, None\n",
        "        ##############\n",
        "        ##############\n",
        "\n",
        "        # TODO: do backpropagation layer by layer\n",
        "        # Hint: forward pass = affine->relu->affine->softmax+loss\n",
        "        # Hint: backward pass = affine_backward<-relu_backward<-affine_backward<-softmax+loss grad\n",
        "        dloss = self.cross_entropy.backward()\n",
        "        dhidden, dW2, db2 = self.linear2.backward(dloss)\n",
        "        drelu = self.relu.backward(dhidden)\n",
        "        _, dW1, db1 = self.linear1.backward(drelu)\n",
        "\n",
        "        ##############\n",
        "        ############## \n",
        "        grads['W1'] = dW1\n",
        "        grads['b1'] = db1\n",
        "        \n",
        "        grads['W2'] = dW2\n",
        "        grads['b2'] = db2\n",
        "        return grads\n",
        "    \n",
        "    # predict class for each sample\n",
        "    # inputs : shape (N, D)\n",
        "    # output : class index prediction of size (N)\n",
        "    def predict(self, inputs):\n",
        "        W1, b1 = self.params['W1'], self.params['b1']\n",
        "        W2, b2 = self.params['W2'], self.params['b2']\n",
        "        o1 = self.linear1.forward(inputs, W1, b1)\n",
        "        a1 = self.relu.forward(o1)\n",
        "        logits = self.linear2.forward(a1, W2, b2)\n",
        "        preds = np.argmax(logits, axis=1)\n",
        "        return preds\n",
        "        "
      ],
      "execution_count": null,
      "outputs": []
    },
    {
      "cell_type": "markdown",
      "metadata": {
        "id": "CCsnKTW-rXCg"
      },
      "source": [
        "### Let's define the same neural network as above, but using the PyTorch library\n",
        "You only need to observe the code here. Notice the similarity of the neural network and layer classes with our custom implementation. Also notice how easily we can setup the network with the layer classes given by PyTorch."
      ]
    },
    {
      "cell_type": "markdown",
      "metadata": {
        "id": "hu54KAZzrXCh"
      },
      "source": [
        "#### Define Network Architecture"
      ]
    },
    {
      "cell_type": "code",
      "metadata": {
        "id": "ssvHWznVrXCj"
      },
      "source": [
        "class PyTorchNeuralNetwork(nn.Module):\n",
        "\n",
        "    def __init__(self,input_size, hidden_size,output_size):\n",
        "        super(NeuralNetwork, self).__init__()  # use constructor of superClass\n",
        "        # initialize layers\n",
        "        self.linear1 = nn.Linear(input_size, hidden_size)  \n",
        "        self.linear2 = nn.Linear(hidden_size, output_size)\n",
        "        self.relu = nn.ReLU()\n",
        "        \n",
        "    def forward(self, x):\n",
        "        o1 = self.linear1(x)\n",
        "        a1 = self.relu(o1)\n",
        "        logits =  self.linear2(a1)\n",
        "        return logits"
      ],
      "execution_count": null,
      "outputs": []
    },
    {
      "cell_type": "markdown",
      "metadata": {
        "id": "Gaap-2B5fnlS"
      },
      "source": [
        "We provide the training loop for convenience."
      ]
    },
    {
      "cell_type": "code",
      "metadata": {
        "id": "LSFWuYQIekOZ"
      },
      "source": [
        "# train using gradient descent\n",
        "# network - NeuralNetwork class you implemented (not PyTorch)\n",
        "# X - training data\n",
        "# y - training data class labels\n",
        "# num_iters - number of iterations to run training\n",
        "# verbose - if true, print the loss values at every nth iteration\n",
        "def train(network, X, y, learning_rate=0.01, num_iters=1000, verbose=True):\n",
        "    \n",
        "    for iteration in range(num_iters):\n",
        "        loss = network.loss(X, y)\n",
        "        grads = network.calculate_grads()\n",
        "        network.loss_history.append(loss)            \n",
        "        for param in network.params:  # iterate parameter dictionary to update each weight type\n",
        "            network.params[param] -= learning_rate * grads[param]\n",
        "        \n",
        "        if verbose and iteration % 100 == 0:\n",
        "            print('iteration %d / %d: loss %.3f' % (iteration, num_iters, loss))"
      ],
      "execution_count": null,
      "outputs": []
    },
    {
      "cell_type": "code",
      "metadata": {
        "colab": {
          "base_uri": "https://localhost:8080/",
          "height": 1000
        },
        "id": "uct8wsrDrXCf",
        "scrolled": false,
        "outputId": "6fe7c02e-cf7a-445a-b17d-1c9296c7be41"
      },
      "source": [
        "N = 100 # number of samples\n",
        "D = 2 # dimensionality\n",
        "K = 3 # number of classes\n",
        "\n",
        "# setup data\n",
        "X, y = getSpiralToyData(N, D, K)\n",
        "\n",
        "# define network\n",
        "H = 100 # number of neurons in hidden layer\n",
        "net = NeuralNetwork(D, H, K)\n",
        "\n",
        "# train the network\n",
        "train(net, X, y, learning_rate=1e-1,  num_iters=10000)\n",
        "\n",
        "# plot the training loss\n",
        "plotLossHistory(net.loss_history)\n",
        "plotDecisionBoundary(X, net.predict )"
      ],
      "execution_count": null,
      "outputs": [
        {
          "output_type": "stream",
          "name": "stdout",
          "text": [
            "iteration 0 / 10000: loss 1.099\n",
            "iteration 100 / 10000: loss 1.095\n",
            "iteration 200 / 10000: loss 1.068\n",
            "iteration 300 / 10000: loss 0.937\n",
            "iteration 400 / 10000: loss 0.774\n",
            "iteration 500 / 10000: loss 0.715\n",
            "iteration 600 / 10000: loss 0.697\n",
            "iteration 700 / 10000: loss 0.688\n",
            "iteration 800 / 10000: loss 0.681\n",
            "iteration 900 / 10000: loss 0.676\n",
            "iteration 1000 / 10000: loss 0.670\n",
            "iteration 1100 / 10000: loss 0.664\n",
            "iteration 1200 / 10000: loss 0.658\n",
            "iteration 1300 / 10000: loss 0.651\n",
            "iteration 1400 / 10000: loss 0.644\n",
            "iteration 1500 / 10000: loss 0.636\n",
            "iteration 1600 / 10000: loss 0.626\n",
            "iteration 1700 / 10000: loss 0.615\n",
            "iteration 1800 / 10000: loss 0.603\n",
            "iteration 1900 / 10000: loss 0.589\n",
            "iteration 2000 / 10000: loss 0.573\n",
            "iteration 2100 / 10000: loss 0.555\n",
            "iteration 2200 / 10000: loss 0.536\n",
            "iteration 2300 / 10000: loss 0.516\n",
            "iteration 2400 / 10000: loss 0.495\n",
            "iteration 2500 / 10000: loss 0.474\n",
            "iteration 2600 / 10000: loss 0.452\n",
            "iteration 2700 / 10000: loss 0.431\n",
            "iteration 2800 / 10000: loss 0.411\n",
            "iteration 2900 / 10000: loss 0.393\n",
            "iteration 3000 / 10000: loss 0.375\n",
            "iteration 3100 / 10000: loss 0.360\n",
            "iteration 3200 / 10000: loss 0.346\n",
            "iteration 3300 / 10000: loss 0.333\n",
            "iteration 3400 / 10000: loss 0.321\n",
            "iteration 3500 / 10000: loss 0.311\n",
            "iteration 3600 / 10000: loss 0.301\n",
            "iteration 3700 / 10000: loss 0.292\n",
            "iteration 3800 / 10000: loss 0.284\n",
            "iteration 3900 / 10000: loss 0.276\n",
            "iteration 4000 / 10000: loss 0.269\n",
            "iteration 4100 / 10000: loss 0.262\n",
            "iteration 4200 / 10000: loss 0.256\n",
            "iteration 4300 / 10000: loss 0.250\n",
            "iteration 4400 / 10000: loss 0.244\n",
            "iteration 4500 / 10000: loss 0.239\n",
            "iteration 4600 / 10000: loss 0.234\n",
            "iteration 4700 / 10000: loss 0.229\n",
            "iteration 4800 / 10000: loss 0.224\n",
            "iteration 4900 / 10000: loss 0.219\n",
            "iteration 5000 / 10000: loss 0.214\n",
            "iteration 5100 / 10000: loss 0.210\n",
            "iteration 5200 / 10000: loss 0.206\n",
            "iteration 5300 / 10000: loss 0.202\n",
            "iteration 5400 / 10000: loss 0.198\n",
            "iteration 5500 / 10000: loss 0.194\n",
            "iteration 5600 / 10000: loss 0.191\n",
            "iteration 5700 / 10000: loss 0.187\n",
            "iteration 5800 / 10000: loss 0.184\n",
            "iteration 5900 / 10000: loss 0.181\n",
            "iteration 6000 / 10000: loss 0.177\n",
            "iteration 6100 / 10000: loss 0.174\n",
            "iteration 6200 / 10000: loss 0.171\n",
            "iteration 6300 / 10000: loss 0.168\n",
            "iteration 6400 / 10000: loss 0.165\n",
            "iteration 6500 / 10000: loss 0.163\n",
            "iteration 6600 / 10000: loss 0.160\n",
            "iteration 6700 / 10000: loss 0.157\n",
            "iteration 6800 / 10000: loss 0.155\n",
            "iteration 6900 / 10000: loss 0.152\n",
            "iteration 7000 / 10000: loss 0.150\n",
            "iteration 7100 / 10000: loss 0.148\n",
            "iteration 7200 / 10000: loss 0.146\n",
            "iteration 7300 / 10000: loss 0.143\n",
            "iteration 7400 / 10000: loss 0.141\n",
            "iteration 7500 / 10000: loss 0.139\n",
            "iteration 7600 / 10000: loss 0.137\n",
            "iteration 7700 / 10000: loss 0.135\n",
            "iteration 7800 / 10000: loss 0.134\n",
            "iteration 7900 / 10000: loss 0.131\n",
            "iteration 8000 / 10000: loss 0.130\n",
            "iteration 8100 / 10000: loss 0.128\n",
            "iteration 8200 / 10000: loss 0.125\n",
            "iteration 8300 / 10000: loss 0.124\n",
            "iteration 8400 / 10000: loss 0.122\n",
            "iteration 8500 / 10000: loss 0.120\n",
            "iteration 8600 / 10000: loss 0.118\n",
            "iteration 8700 / 10000: loss 0.117\n",
            "iteration 8800 / 10000: loss 0.115\n",
            "iteration 8900 / 10000: loss 0.114\n",
            "iteration 9000 / 10000: loss 0.112\n",
            "iteration 9100 / 10000: loss 0.111\n",
            "iteration 9200 / 10000: loss 0.110\n",
            "iteration 9300 / 10000: loss 0.108\n",
            "iteration 9400 / 10000: loss 0.107\n",
            "iteration 9500 / 10000: loss 0.106\n",
            "iteration 9600 / 10000: loss 0.105\n",
            "iteration 9700 / 10000: loss 0.103\n",
            "iteration 9800 / 10000: loss 0.102\n",
            "iteration 9900 / 10000: loss 0.101\n"
          ]
        },
        {
          "output_type": "display_data",
          "data": {
            "text/plain": [
              "<Figure size 432x288 with 1 Axes>"
            ],
            "image/png": "[encoded data removed]"
          },
          "metadata": {
            "needs_background": "light"
          }
        },
        {
          "output_type": "display_data",
          "data": {
            "text/plain": [
              "<Figure size 432x288 with 1 Axes>"
            ],
            "image/png": "[encoded data removed]"
          },
          "metadata": {
            "needs_background": "light"
          }
        }
      ]
    },
    {
      "cell_type": "markdown",
      "metadata": {
        "id": "J-tBPK0QrXCf"
      },
      "source": [
        "### Analyze the decision boundary:\n",
        "**Questions**: \n",
        "\n",
        "1) The addition of which specific layer improves the decision boundary? Was it the additional hidden layer or the activation function?\n",
        "\n",
        "2) If we don't use any activation functions, and implement a very deep multi-layered network, what would the decision boundary look like?"
      ]
    },
    {
      "cell_type": "markdown",
      "metadata": {
        "id": "PeNnHBN-rXCf"
      },
      "source": [
        "\n",
        "\n",
        "Your answer here!\n",
        "* The additional layer cannot be responsible for the non-linear decision boundary as stacked linear functions are still a linear mapping, irrespective of the number of layers.\n",
        "* The ReLU activation yields piece-wise linear decision boundaries as the one above, allowing non-linear decision boundaries."
      ]
    },
    {
      "cell_type": "markdown",
      "metadata": {
        "id": "OU2Q-HBXrXCl"
      },
      "source": [
        "Congrats on implementing and training your first neural networks!"
      ]
    }
  ]
}