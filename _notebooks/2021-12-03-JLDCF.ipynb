{
 "cells": [
  {
   "cell_type": "markdown",
   "metadata": {},
   "source": [
    "# RGB and RGB-D Fusion\n",
    "> borrow code from https://github.com/jiangyao-scu/JL-DCF-pytorch and add some tips\n",
    "- toc: true \n",
    "- badges: true\n",
    "- comments: true\n",
    "- sticky_rank: 2\n",
    "- author: Bowen\n",
    "- categories: [pytorch, fastai,fusion]\n"
   ]
  },
  {
   "attachments": {},
   "cell_type": "markdown",
   "metadata": {},
   "source": [
    "![](https://i.loli.net/2021/12/03/nHjQ158cRYxFCAZ.png)"
   ]
  },
  {
   "cell_type": "code",
   "execution_count": 1,
   "metadata": {
    "ExecuteTime": {
     "end_time": "2021-12-03T06:51:59.530675Z",
     "start_time": "2021-12-03T06:51:55.408244Z"
    }
   },
   "outputs": [],
   "source": [
    "import mmcv\n",
    "import matplotlib.pyplot as plt\n",
    "from fastcore.basics import *\n",
    "from fastai.vision.all import *\n",
    "from fastai.torch_basics import *\n",
    "import warnings\n",
    "warnings.filterwarnings(\"ignore\")\n",
    "import kornia\n",
    "from kornia.constants import Resample\n",
    "from kornia.color import *\n",
    "from kornia import augmentation as K\n",
    "import kornia.augmentation as F\n",
    "import kornia.augmentation.random_generator as rg\n",
    "from torchvision.transforms import functional as tvF\n",
    "from torchvision.transforms import transforms\n",
    "from torchvision.transforms import PILToTensor\n",
    "from functools import partial\n",
    "from timm.models.layers import trunc_normal_, DropPath\n",
    "from timm.data import IMAGENET_DEFAULT_MEAN, IMAGENET_DEFAULT_STD\n",
    "from timm.models.vision_transformer import _cfg\n",
    "from einops import rearrange\n",
    "from timm.models.registry import register_model\n",
    "\n",
    "set_seed(105)"
   ]
  },
  {
   "cell_type": "markdown",
   "metadata": {},
   "source": [
    "## dataset overview"
   ]
  },
  {
   "cell_type": "code",
   "execution_count": 12,
   "metadata": {
    "ExecuteTime": {
     "end_time": "2021-12-03T06:58:08.931902Z",
     "start_time": "2021-12-03T06:58:08.929040Z"
    }
   },
   "outputs": [],
   "source": [
    "rootPath = Path('/home/ubuntu/sharedData/swp/dlLab/fastaiRepository/fastai/data/SOD/RGBDcollection/')\n",
    "rgbPath = Path('/home/ubuntu/sharedData/swp/dlLab/fastaiRepository/fastai/data/SOD/RGBDcollection/LR/')\n",
    "depPath = Path('/home/ubuntu/sharedData/swp/dlLab/fastaiRepository/fastai/data/SOD/RGBDcollection/depth/')\n",
    "gtPath = Path('/home/ubuntu/sharedData/swp/dlLab/fastaiRepository/fastai/data/SOD/RGBDcollection/GT/')\n"
   ]
  },
  {
   "cell_type": "code",
   "execution_count": 14,
   "metadata": {
    "ExecuteTime": {
     "end_time": "2021-12-03T06:58:39.055447Z",
     "start_time": "2021-12-03T06:58:38.870842Z"
    }
   },
   "outputs": [
    {
     "data": {
      "text/plain": [
       "Path('/home/ubuntu/sharedData/swp/dlLab/fastaiRepository/fastai/data/SOD/RGBDcollection/LR/001477_left_1_ori.jpg')"
      ]
     },
     "execution_count": 14,
     "metadata": {},
     "output_type": "execute_result"
    },
    {
     "data": {
      "text/plain": [
       "Path('/home/ubuntu/sharedData/swp/dlLab/fastaiRepository/fastai/data/SOD/RGBDcollection/depth/10_01-16-36_0_Depth.png')"
      ]
     },
     "execution_count": 14,
     "metadata": {},
     "output_type": "execute_result"
    },
    {
     "data": {
      "text/plain": [
       "Path('/home/ubuntu/sharedData/swp/dlLab/fastaiRepository/fastai/data/SOD/RGBDcollection/GT/9_07-38-26_0_GT.png')"
      ]
     },
     "execution_count": 14,
     "metadata": {},
     "output_type": "execute_result"
    }
   ],
   "source": [
    "rgbFiles = get_image_files(rgbPath)\n",
    "depFiles = get_image_files(depPath)\n",
    "lblFiles = get_image_files(gtPath)\n",
    "rgbFiles[0]\n",
    "depFiles[0]\n",
    "lblFiles[0]"
   ]
  },
  {
   "cell_type": "code",
   "execution_count": 16,
   "metadata": {
    "ExecuteTime": {
     "end_time": "2021-12-03T07:01:52.338855Z",
     "start_time": "2021-12-03T07:01:52.312544Z"
    }
   },
   "outputs": [],
   "source": [
    "to_tensor = transforms.ToTensor()\n",
    "to_pil = transforms.ToPILImage()\n",
    "rgbImage = Image.open(rgbFiles[0])\n",
    "lblImage = Image.open(lblFiles[0])\n",
    "depImage = Image.open(depFiles[0])\n",
    "rgbTensor = image2tensor(rgbImage)\n",
    "lblTensor = image2tensor(lblImage)\n",
    "depTensor = image2tensor(depImage)"
   ]
  },
  {
   "cell_type": "code",
   "execution_count": 20,
   "metadata": {
    "ExecuteTime": {
     "end_time": "2021-12-03T07:02:43.227291Z",
     "start_time": "2021-12-03T07:02:43.190045Z"
    }
   },
   "outputs": [
    {
     "data": {
      "text/plain": [
       "tensor([  0,   1,   2,   3,   4,   5,   6,   7,   8,   9,  10,  11,  12,  13,\n",
       "         14,  15,  16,  17,  18,  19,  20,  21,  22,  23,  24,  25,  26,  27,\n",
       "         28,  29,  30,  31,  32,  33,  34,  35,  36,  37,  38,  39,  40,  41,\n",
       "         42,  43,  44,  45,  46,  47,  48,  49,  50,  51,  52,  53,  54,  55,\n",
       "         56,  57,  58,  59,  60,  61,  62,  63,  64,  65,  66,  67,  68,  69,\n",
       "         70,  71,  72,  73,  74,  75,  76,  77,  78,  79,  80,  81,  82,  83,\n",
       "         84,  85,  86,  87,  88,  89,  90,  91,  92,  93,  94,  95,  96,  97,\n",
       "         98,  99, 100, 101, 102, 103, 104, 105, 106, 107, 108, 109, 110, 111,\n",
       "        112, 113, 114, 115, 116, 117, 118, 119, 120, 121, 122, 123, 124, 125,\n",
       "        126, 127, 128, 129, 130, 131, 132, 133, 134, 135, 136, 137, 138, 139,\n",
       "        140, 141, 142, 143, 144, 145, 146, 147, 148, 149, 150, 151, 152, 153,\n",
       "        154, 155, 156, 157, 158, 159, 160, 161, 162, 163, 164, 165, 166, 167,\n",
       "        168, 169, 170, 171, 172, 173, 174, 175, 176, 177, 178, 179, 180, 181,\n",
       "        182, 183, 184, 185, 186, 187, 188, 189, 190, 191, 192, 193, 194, 195,\n",
       "        196, 197, 198, 199, 200, 201, 202, 203, 204, 205, 206, 207, 208, 209,\n",
       "        210, 211, 212, 213, 214, 215, 216, 217, 218, 219, 220, 221, 222, 223,\n",
       "        224, 225, 226, 227, 228, 229, 230, 231, 232, 233, 234, 235, 236, 237,\n",
       "        238, 239, 240, 241, 242, 243, 244, 245, 246, 247, 248, 249, 250, 251,\n",
       "        252, 253, 254, 255], dtype=torch.uint8)"
      ]
     },
     "execution_count": 20,
     "metadata": {},
     "output_type": "execute_result"
    },
    {
     "data": {
      "text/plain": [
       "256"
      ]
     },
     "execution_count": 20,
     "metadata": {},
     "output_type": "execute_result"
    }
   ],
   "source": [
    "torch.unique(depTensor)\n",
    "len(torch.unique(depTensor))"
   ]
  },
  {
   "cell_type": "code",
   "execution_count": 40,
   "metadata": {
    "ExecuteTime": {
     "end_time": "2021-12-03T07:17:33.101523Z",
     "start_time": "2021-12-03T07:17:33.097066Z"
    }
   },
   "outputs": [],
   "source": [
    "import cv2\n",
    "def Normalization(image):\n",
    "    set_trace()\n",
    "    in_ = image[:, :, ::-1]\n",
    "    in_ = in_ / 255.0\n",
    "    in_ -= np.array((0.485, 0.456, 0.406))\n",
    "    in_ /= np.array((0.229, 0.224, 0.225))\n",
    "    return in_"
   ]
  },
  {
   "cell_type": "code",
   "execution_count": 39,
   "metadata": {
    "ExecuteTime": {
     "end_time": "2021-12-03T07:16:28.971625Z",
     "start_time": "2021-12-03T07:16:28.966113Z"
    }
   },
   "outputs": [
    {
     "data": {
      "text/plain": [
       "array([-0.5, -0.5, -0.5], dtype=float32)"
      ]
     },
     "execution_count": 39,
     "metadata": {},
     "output_type": "execute_result"
    }
   ],
   "source": [
    "temp = np.array((1,1,1),dtype=np.float32)\n",
    "temp2 = np.array((2,2,2),dtype=np.float32)\n",
    "temp-=temp2\n",
    "temp/=temp2\n",
    "temp"
   ]
  },
  {
   "cell_type": "code",
   "execution_count": 41,
   "metadata": {
    "ExecuteTime": {
     "end_time": "2021-12-03T07:17:42.171350Z",
     "start_time": "2021-12-03T07:17:42.167708Z"
    }
   },
   "outputs": [],
   "source": [
    "\n",
    "def load_image(path,image_size):\n",
    "    im = cv2.imread(path)\n",
    "    in_ = np.array(im, dtype=np.float32)\n",
    "    in_ = cv2.resize(in_, (image_size, image_size))\n",
    "    in_ = Normalization(in_)\n",
    "    return in_"
   ]
  },
  {
   "cell_type": "code",
   "execution_count": 28,
   "metadata": {
    "ExecuteTime": {
     "end_time": "2021-12-03T07:08:55.964930Z",
     "start_time": "2021-12-03T07:08:55.957841Z"
    }
   },
   "outputs": [
    {
     "data": {
      "text/plain": [
       "Path('/home/ubuntu/sharedData/swp/dlLab/fastaiRepository/fastai/data/SOD/RGBDcollection/LR/001477_left_1_ori.jpg')"
      ]
     },
     "execution_count": 28,
     "metadata": {},
     "output_type": "execute_result"
    }
   ],
   "source": [
    "rgbFiles[0]"
   ]
  },
  {
   "cell_type": "markdown",
   "metadata": {},
   "source": [
    "## slicing issues of three dimensions"
   ]
  },
  {
   "cell_type": "code",
   "execution_count": 46,
   "metadata": {
    "ExecuteTime": {
     "end_time": "2021-12-03T07:27:25.204671Z",
     "start_time": "2021-12-03T07:27:25.180017Z"
    }
   },
   "outputs": [
    {
     "name": "stdout",
     "output_type": "stream",
     "text": [
      "b is [[[ 1  2  3  4]\n",
      "  [ 5  6  7  8]\n",
      "  [ 9 10 11 12]]\n",
      "\n",
      " [[13 14 15 16]\n",
      "  [17 18 19 20]\n",
      "  [21 22 23 24]]\n",
      "\n",
      " [[25 26 27 28]\n",
      "  [29 30 31 32]\n",
      "  [33 34 35 36]]]\n",
      "(3, 3, 4)\n",
      "b[0, ::],b[1, ::],b[-1, ::],b[0:2, ::]\n",
      "b[0, ::] [[ 1  2  3  4]\n",
      " [ 5  6  7  8]\n",
      " [ 9 10 11 12]] (3, 4)\n",
      "b[1, ::] [[13 14 15 16]\n",
      " [17 18 19 20]\n",
      " [21 22 23 24]] (3, 4)\n",
      "b[-1, ::] [[25 26 27 28]\n",
      " [29 30 31 32]\n",
      " [33 34 35 36]] (3, 4)\n",
      "b[0:2, ::] [[[ 1  2  3  4]\n",
      "  [ 5  6  7  8]\n",
      "  [ 9 10 11 12]]\n",
      "\n",
      " [[13 14 15 16]\n",
      "  [17 18 19 20]\n",
      "  [21 22 23 24]]] (2, 3, 4)\n",
      "b[:, 0:],b[:, 1:],b[:, -1:],b[:, 0:2:]\n",
      "b[:, 0:] [[[ 1  2  3  4]\n",
      "  [ 5  6  7  8]\n",
      "  [ 9 10 11 12]]\n",
      "\n",
      " [[13 14 15 16]\n",
      "  [17 18 19 20]\n",
      "  [21 22 23 24]]\n",
      "\n",
      " [[25 26 27 28]\n",
      "  [29 30 31 32]\n",
      "  [33 34 35 36]]] (3, 3, 4)\n",
      "b[:, 1:] [[[ 5  6  7  8]\n",
      "  [ 9 10 11 12]]\n",
      "\n",
      " [[17 18 19 20]\n",
      "  [21 22 23 24]]\n",
      "\n",
      " [[29 30 31 32]\n",
      "  [33 34 35 36]]] (3, 2, 4)\n",
      "b[:, -1:] [[[ 9 10 11 12]]\n",
      "\n",
      " [[21 22 23 24]]\n",
      "\n",
      " [[33 34 35 36]]] (3, 1, 4)\n",
      "b[:, 0:2:] [[[ 1  2  3  4]\n",
      "  [ 5  6  7  8]]\n",
      "\n",
      " [[13 14 15 16]\n",
      "  [17 18 19 20]]\n",
      "\n",
      " [[25 26 27 28]\n",
      "  [29 30 31 32]]] (3, 2, 4)\n",
      "b[::, 0],b[::, 1],b[::, -1],b[::, 0:2:]\n",
      "b[::, 0] [[ 1  2  3  4]\n",
      " [13 14 15 16]\n",
      " [25 26 27 28]] (3, 4)\n",
      "b[::, 1] [[ 5  6  7  8]\n",
      " [17 18 19 20]\n",
      " [29 30 31 32]] (3, 4)\n",
      "b[::, -1] [[ 9 10 11 12]\n",
      " [21 22 23 24]\n",
      " [33 34 35 36]] (3, 4)\n",
      "b[::, 0:2:] [[[ 1  2  3  4]\n",
      "  [ 5  6  7  8]]\n",
      "\n",
      " [[13 14 15 16]\n",
      "  [17 18 19 20]]\n",
      "\n",
      " [[25 26 27 28]\n",
      "  [29 30 31 32]]] (3, 2, 4)\n",
      "b[:,:, 0],b[:,:, 1],b[:,:, -1],b[:,:, 0:2:]\n",
      "b[:, :, 0] [[ 1  5  9]\n",
      " [13 17 21]\n",
      " [25 29 33]] (3, 3)\n",
      "b[:, :, 1] [[ 2  6 10]\n",
      " [14 18 22]\n",
      " [26 30 34]] (3, 3)\n",
      "b[:, :, -1] [[ 4  8 12]\n",
      " [16 20 24]\n",
      " [28 32 36]] (3, 3)\n"
     ]
    }
   ],
   "source": [
    "\n",
    "import numpy as np\n",
    " \n",
    "b = np.array([[[1, 2, 3, 4], [5, 6, 7, 8], [9, 10, 11, 12]],\n",
    "              [[13, 14, 15, 16], [17, 18, 19, 20], [21, 22, 23, 24]],\n",
    "              [[25, 26, 27, 28], [29, 30, 31, 32], [33, 34, 35, 36]],\n",
    "              ])\n",
    " \n",
    "print(f'b is {b}')\n",
    "print(b.shape)\n",
    "print(\"b[0, ::],b[1, ::],b[-1, ::],b[0:2, ::]\")\n",
    "print(\"b[0, ::]\",b[0, ::], b[0, ::].shape)\n",
    "print(\"b[1, ::]\",b[1, ::], b[1, ::].shape)\n",
    "print(\"b[-1, ::]\",b[-1, ::], b[-1, ::].shape)\n",
    "print(\"b[0:2, ::]\",b[0:2, ::], b[0:2, ::].shape)\n",
    "print(\"b[:, 0:],b[:, 1:],b[:, -1:],b[:, 0:2:]\")\n",
    "print(\"b[:, 0:]\",b[:, 0:], b[:, 0:].shape)\n",
    "print(\"b[:, 1:]\",b[:, 1:], b[:, 1:].shape)\n",
    "print(\"b[:, -1:]\",b[:, -1:], b[:, -1:].shape)\n",
    "print(\"b[:, 0:2:]\",b[:, 0:2:], b[:, 0:2:].shape)\n",
    "print(\"b[::, 0],b[::, 1],b[::, -1],b[::, 0:2:]\")\n",
    "print(\"b[::, 0]\",b[::, 0], b[::, 0].shape)\n",
    "print(\"b[::, 1]\",b[::, 1], b[::, 1].shape)\n",
    "print(\"b[::, -1]\",b[::, -1], b[::, -1].shape)\n",
    "print(\"b[::, 0:2:]\",b[::, 0:2:], b[::, 0:2].shape)\n",
    "print(\"b[:,:, 0],b[:,:, 1],b[:,:, -1],b[:,:, 0:2:]\")\n",
    "print(\"b[:, :, 0]\",b[:, :, 0], b[:, :, 0].shape)\n",
    "print(\"b[:, :, 1]\",b[:, :, 1], b[:, :, 1].shape)\n",
    "print(\"b[:, :, -1]\",b[:, :, -1], b[:, :, -1].shape)\n"
   ]
  },
  {
   "cell_type": "code",
   "execution_count": 42,
   "metadata": {
    "ExecuteTime": {
     "end_time": "2021-12-03T07:19:14.812470Z",
     "start_time": "2021-12-03T07:17:45.185441Z"
    },
    "scrolled": false
   },
   "outputs": [
    {
     "name": "stdout",
     "output_type": "stream",
     "text": [
      "> \u001b[0;32m/tmp/ipykernel_27971/2475151000.py\u001b[0m(4)\u001b[0;36mNormalization\u001b[0;34m()\u001b[0m\n",
      "\u001b[0;32m      2 \u001b[0;31m\u001b[0;32mdef\u001b[0m \u001b[0mNormalization\u001b[0m\u001b[0;34m(\u001b[0m\u001b[0mimage\u001b[0m\u001b[0;34m)\u001b[0m\u001b[0;34m:\u001b[0m\u001b[0;34m\u001b[0m\u001b[0;34m\u001b[0m\u001b[0m\n",
      "\u001b[0m\u001b[0;32m      3 \u001b[0;31m    \u001b[0mset_trace\u001b[0m\u001b[0;34m(\u001b[0m\u001b[0;34m)\u001b[0m\u001b[0;34m\u001b[0m\u001b[0;34m\u001b[0m\u001b[0m\n",
      "\u001b[0m\u001b[0;32m----> 4 \u001b[0;31m    \u001b[0min_\u001b[0m \u001b[0;34m=\u001b[0m \u001b[0mimage\u001b[0m\u001b[0;34m[\u001b[0m\u001b[0;34m:\u001b[0m\u001b[0;34m,\u001b[0m \u001b[0;34m:\u001b[0m\u001b[0;34m,\u001b[0m \u001b[0;34m:\u001b[0m\u001b[0;34m:\u001b[0m\u001b[0;34m-\u001b[0m\u001b[0;36m1\u001b[0m\u001b[0;34m]\u001b[0m\u001b[0;34m\u001b[0m\u001b[0;34m\u001b[0m\u001b[0m\n",
      "\u001b[0m\u001b[0;32m      5 \u001b[0;31m    \u001b[0min_\u001b[0m \u001b[0;34m=\u001b[0m \u001b[0min_\u001b[0m \u001b[0;34m/\u001b[0m \u001b[0;36m255.0\u001b[0m\u001b[0;34m\u001b[0m\u001b[0;34m\u001b[0m\u001b[0m\n",
      "\u001b[0m\u001b[0;32m      6 \u001b[0;31m    \u001b[0min_\u001b[0m \u001b[0;34m-=\u001b[0m \u001b[0mnp\u001b[0m\u001b[0;34m.\u001b[0m\u001b[0marray\u001b[0m\u001b[0;34m(\u001b[0m\u001b[0;34m(\u001b[0m\u001b[0;36m0.485\u001b[0m\u001b[0;34m,\u001b[0m \u001b[0;36m0.456\u001b[0m\u001b[0;34m,\u001b[0m \u001b[0;36m0.406\u001b[0m\u001b[0;34m)\u001b[0m\u001b[0;34m)\u001b[0m\u001b[0;34m\u001b[0m\u001b[0;34m\u001b[0m\u001b[0m\n",
      "\u001b[0m\n",
      "ipdb> image\n",
      "array([[[253.     , 254.     , 250.     ],\n",
      "        [253.     , 254.     , 250.     ],\n",
      "        [253.     , 254.     , 250.     ],\n",
      "        ...,\n",
      "        [233.48633, 227.48633, 220.48633],\n",
      "        [229.1377 , 223.1377 , 216.1377 ],\n",
      "        [229.     , 223.     , 216.     ]],\n",
      "\n",
      "       [[253.     , 254.     , 250.     ],\n",
      "        [253.     , 254.     , 250.     ],\n",
      "        [253.     , 254.     , 250.     ],\n",
      "        ...,\n",
      "        [231.33528, 225.33528, 218.33528],\n",
      "        [226.27832, 220.27832, 213.27832],\n",
      "        [225.80833, 219.80833, 212.80833]],\n",
      "\n",
      "       [[253.     , 254.     , 250.     ],\n",
      "        [253.     , 254.     , 250.     ],\n",
      "        [253.     , 254.     , 250.     ],\n",
      "        ...,\n",
      "        [227.54199, 221.54199, 214.54199],\n",
      "        [221.57063, 215.57063, 208.57063],\n",
      "        [220.44151, 214.44151, 207.44151]],\n",
      "\n",
      "       ...,\n",
      "\n",
      "       [[155.9414 , 209.9414 , 232.9414 ],\n",
      "        [160.46158, 217.38704, 239.74835],\n",
      "        [160.13832, 217.13832, 242.88148],\n",
      "        ...,\n",
      "        [179.43697, 191.89355, 189.5206 ],\n",
      "        [197.98697, 203.39127, 201.27083],\n",
      "        [213.76942, 216.80284, 211.10059]],\n",
      "\n",
      "       [[162.80006, 216.80006, 239.80006],\n",
      "        [166.23418, 222.28008, 247.28008],\n",
      "        [161.94725, 218.94725, 244.69041],\n",
      "        ...,\n",
      "        [171.4502 , 187.0498 , 183.25977],\n",
      "        [191.20839, 200.35136, 197.21504],\n",
      "        [208.32304, 215.38841, 209.03665]],\n",
      "\n",
      "       [[171.0459 , 225.0459 , 248.0459 ],\n",
      "        [172.8623 , 228.9082 , 253.9082 ],\n",
      "        [165.54102, 222.54102, 248.28418],\n",
      "        ...,\n",
      "        [163.8252 , 182.28418, 177.54102],\n",
      "        [186.31152, 196.49512, 190.58691],\n",
      "        [203.51367, 211.9082 , 204.55957]]], dtype=float32)\n",
      "ipdb> image.shape\n",
      "(512, 512, 3)\n",
      "ipdb> image[:, :, ::-1]\n",
      "array([[[250.     , 254.     , 253.     ],\n",
      "        [250.     , 254.     , 253.     ],\n",
      "        [250.     , 254.     , 253.     ],\n",
      "        ...,\n",
      "        [220.48633, 227.48633, 233.48633],\n",
      "        [216.1377 , 223.1377 , 229.1377 ],\n",
      "        [216.     , 223.     , 229.     ]],\n",
      "\n",
      "       [[250.     , 254.     , 253.     ],\n",
      "        [250.     , 254.     , 253.     ],\n",
      "        [250.     , 254.     , 253.     ],\n",
      "        ...,\n",
      "        [218.33528, 225.33528, 231.33528],\n",
      "        [213.27832, 220.27832, 226.27832],\n",
      "        [212.80833, 219.80833, 225.80833]],\n",
      "\n",
      "       [[250.     , 254.     , 253.     ],\n",
      "        [250.     , 254.     , 253.     ],\n",
      "        [250.     , 254.     , 253.     ],\n",
      "        ...,\n",
      "        [214.54199, 221.54199, 227.54199],\n",
      "        [208.57063, 215.57063, 221.57063],\n",
      "        [207.44151, 214.44151, 220.44151]],\n",
      "\n",
      "       ...,\n",
      "\n",
      "       [[232.9414 , 209.9414 , 155.9414 ],\n",
      "        [239.74835, 217.38704, 160.46158],\n",
      "        [242.88148, 217.13832, 160.13832],\n",
      "        ...,\n",
      "        [189.5206 , 191.89355, 179.43697],\n",
      "        [201.27083, 203.39127, 197.98697],\n",
      "        [211.10059, 216.80284, 213.76942]],\n",
      "\n",
      "       [[239.80006, 216.80006, 162.80006],\n",
      "        [247.28008, 222.28008, 166.23418],\n",
      "        [244.69041, 218.94725, 161.94725],\n",
      "        ...,\n",
      "        [183.25977, 187.0498 , 171.4502 ],\n",
      "        [197.21504, 200.35136, 191.20839],\n",
      "        [209.03665, 215.38841, 208.32304]],\n",
      "\n",
      "       [[248.0459 , 225.0459 , 171.0459 ],\n",
      "        [253.9082 , 228.9082 , 172.8623 ],\n",
      "        [248.28418, 222.54102, 165.54102],\n",
      "        ...,\n",
      "        [177.54102, 182.28418, 163.8252 ],\n",
      "        [190.58691, 196.49512, 186.31152],\n",
      "        [204.55957, 211.9082 , 203.51367]]], dtype=float32)\n",
      "ipdb> image[:, :, ::-1].shape\n",
      "(512, 512, 3)\n",
      "ipdb> c\n"
     ]
    },
    {
     "data": {
      "text/plain": [
       "array([[[2.1632845 , 2.4110646 , 2.6051416 ],\n",
       "        [2.1632845 , 2.4110646 , 2.6051416 ],\n",
       "        [2.1632845 , 2.4110646 , 2.6051416 ],\n",
       "        ...,\n",
       "        [1.6578702 , 1.9468895 , 2.265034  ],\n",
       "        [1.5834007 , 1.8707579 , 2.189241  ],\n",
       "        [1.5810429 , 1.8683474 , 2.186841  ]],\n",
       "\n",
       "       [[2.1632845 , 2.4110646 , 2.6051416 ],\n",
       "        [2.1632845 , 2.4110646 , 2.6051416 ],\n",
       "        [2.1632845 , 2.4110646 , 2.6051416 ],\n",
       "        ...,\n",
       "        [1.6210339 , 1.9092311 , 2.2275429 ],\n",
       "        [1.5344347 , 1.8206987 , 2.1394043 ],\n",
       "        [1.5263865 , 1.8124709 , 2.131213  ]],\n",
       "\n",
       "       [[2.1632845 , 2.4110646 , 2.6051416 ],\n",
       "        [2.1632845 , 2.4110646 , 2.6051416 ],\n",
       "        [2.1632845 , 2.4110646 , 2.6051416 ],\n",
       "        ...,\n",
       "        [1.5560747 , 1.842822  , 2.1614292 ],\n",
       "        [1.4538167 , 1.7382812 , 2.0573533 ],\n",
       "        [1.4344808 , 1.7185138 , 2.0376735 ]],\n",
       "\n",
       "       ...,\n",
       "\n",
       "       [[1.8711603 , 1.6397306 , 0.9134887 ],\n",
       "        [1.9877274 , 1.7700812 , 0.9922714 ],\n",
       "        [2.0413816 , 1.7657268 , 0.98663735],\n",
       "        ...,\n",
       "        [1.1275897 , 1.3237666 , 1.3229973 ],\n",
       "        [1.3288093 , 1.5250571 , 1.6463088 ],\n",
       "        [1.4971416 , 1.7598536 , 1.9213845 ]],\n",
       "\n",
       "       [[1.9886132 , 1.759805  , 1.0330293 ],\n",
       "        [2.1167064 , 1.8557436 , 1.0928832 ],\n",
       "        [2.072359  , 1.7973957 , 1.0181656 ],\n",
       "        ...,\n",
       "        [1.0203743 , 1.2389673 , 1.1837943 ],\n",
       "        [1.2593551 , 1.4718376 , 1.5281637 ],\n",
       "        [1.4617971 , 1.7350913 , 1.8264583 ]],\n",
       "\n",
       "       [[2.129821  , 1.904165  , 1.1767476 ],\n",
       "        [2.2302113 , 1.9717822 , 1.2084062 ],\n",
       "        [2.1339014 , 1.8603119 , 1.0808021 ],\n",
       "        ...,\n",
       "        [0.9224423 , 1.1555355 , 1.0508968 ],\n",
       "        [1.1458501 , 1.4043263 , 1.4428153 ],\n",
       "        [1.3851284 , 1.6741631 , 1.7426349 ]]], dtype=float32)"
      ]
     },
     "execution_count": 42,
     "metadata": {},
     "output_type": "execute_result"
    }
   ],
   "source": [
    "load_image('/home/ubuntu/sharedData/swp/dlLab/fastaiRepository/fastai/data/SOD/RGBDcollection/LR/001477_left_1_ori.jpg',512)"
   ]
  }
 ],
 "metadata": {
  "kernelspec": {
   "display_name": "Python [conda env:new] *",
   "language": "python",
   "name": "conda-env-new-py"
  },
  "language_info": {
   "codemirror_mode": {
    "name": "ipython",
    "version": 3
   },
   "file_extension": ".py",
   "mimetype": "text/x-python",
   "name": "python",
   "nbconvert_exporter": "python",
   "pygments_lexer": "ipython3",
   "version": "3.8.2"
  },
  "toc": {
   "base_numbering": 1,
   "nav_menu": {},
   "number_sections": true,
   "sideBar": true,
   "skip_h1_title": false,
   "title_cell": "Table of Contents",
   "title_sidebar": "Contents",
   "toc_cell": false,
   "toc_position": {},
   "toc_section_display": true,
   "toc_window_display": false
  }
 },
 "nbformat": 4,
 "nbformat_minor": 4
}
