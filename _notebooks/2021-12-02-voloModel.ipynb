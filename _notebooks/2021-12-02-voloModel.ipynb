{
 "cells": [
  {
   "cell_type": "markdown",
   "metadata": {},
   "source": [
    "# Volo\n",
    "> understanding volo code and structure\n",
    "\n",
    "- toc: true \n",
    "- badges: true\n",
    "- comments: true\n",
    "- sticky_rank: 3\n",
    "- author: Bowen\n",
    "- categories: [pytorch, models]"
   ]
  },
  {
   "cell_type": "code",
   "execution_count": 1,
   "metadata": {},
   "outputs": [],
   "source": [
    "import mmcv\n",
    "import matplotlib.pyplot as plt\n",
    "from fastcore.basics import *\n",
    "from fastai.vision.all import *\n",
    "from fastai.torch_basics import *\n",
    "import warnings\n",
    "warnings.filterwarnings(\"ignore\")\n",
    "import kornia\n",
    "from kornia.constants import Resample\n",
    "from kornia.color import *\n",
    "from kornia import augmentation as K\n",
    "import kornia.augmentation as F\n",
    "import kornia.augmentation.random_generator as rg\n",
    "from torchvision.transforms import functional as tvF\n",
    "from torchvision.transforms import transforms\n",
    "from torchvision.transforms import PILToTensor\n",
    "from functools import partial\n",
    "from timm.models.layers import trunc_normal_, DropPath\n",
    "from timm.data import IMAGENET_DEFAULT_MEAN, IMAGENET_DEFAULT_STD\n",
    "from timm.models.vision_transformer import _cfg\n",
    "from einops import rearrange\n",
    "from timm.models.registry import register_model\n",
    "set_seed(105)\n"
   ]
  },
  {
   "cell_type": "code",
   "execution_count": null,
   "metadata": {},
   "outputs": [],
   "source": []
  }
 ],
 "metadata": {
  "interpreter": {
   "hash": "3374eb6a4e7374c2a6d0784fd556eba2af8c28aabd55af61d969b94d88a2288c"
  },
  "kernelspec": {
   "display_name": "Python 3.8.2 64-bit ('new': conda)",
   "name": "python3"
  },
  "language_info": {
   "codemirror_mode": {
    "name": "ipython",
    "version": 3
   },
   "file_extension": ".py",
   "mimetype": "text/x-python",
   "name": "python",
   "nbconvert_exporter": "python",
   "pygments_lexer": "ipython3",
   "version": "3.8.2"
  },
  "orig_nbformat": 4
 },
 "nbformat": 4,
 "nbformat_minor": 2
}
