{
 "cells": [
  {
   "cell_type": "markdown",
   "metadata": {},
   "source": [
    "# Slice problems\n",
    "> borrow code from https://blog.csdn.net/Doraemon_Zzn/article/details/104325535 and add some tips\n",
    "- toc: true \n",
    "- badges: true\n",
    "- comments: true\n",
    "- sticky_rank: 5\n",
    "- author: Bowen\n",
    "- categories: [python]\n"
   ]
  },
  {
   "cell_type": "markdown",
   "metadata": {},
   "source": [
    "## slicing issues of three dimensions"
   ]
  },
  {
   "cell_type": "code",
   "execution_count": 2,
   "metadata": {
    "ExecuteTime": {
     "end_time": "2021-12-03T07:31:00.806471Z",
     "start_time": "2021-12-03T07:31:00.800133Z"
    }
   },
   "outputs": [
    {
     "name": "stdout",
     "output_type": "stream",
     "text": [
      "b is [[[ 1  2  3  4]\n",
      "  [ 5  6  7  8]\n",
      "  [ 9 10 11 12]]\n",
      "\n",
      " [[13 14 15 16]\n",
      "  [17 18 19 20]\n",
      "  [21 22 23 24]]\n",
      "\n",
      " [[25 26 27 28]\n",
      "  [29 30 31 32]\n",
      "  [33 34 35 36]]]\n",
      "(3, 3, 4)\n"
     ]
    }
   ],
   "source": [
    "import numpy as np\n",
    " \n",
    "b = np.array([[[1, 2, 3, 4], [5, 6, 7, 8], [9, 10, 11, 12]],\n",
    "              [[13, 14, 15, 16], [17, 18, 19, 20], [21, 22, 23, 24]],\n",
    "              [[25, 26, 27, 28], [29, 30, 31, 32], [33, 34, 35, 36]],\n",
    "              ])\n",
    " \n",
    "print(f'b is {b}')\n",
    "print(b.shape)"
   ]
  },
  {
   "cell_type": "code",
   "execution_count": 3,
   "metadata": {
    "ExecuteTime": {
     "end_time": "2021-12-03T07:31:00.828628Z",
     "start_time": "2021-12-03T07:31:00.809356Z"
    }
   },
   "outputs": [
    {
     "name": "stdout",
     "output_type": "stream",
     "text": [
      "b[0, ::],b[1, ::],b[-1, ::],b[0:2, ::]\n",
      "b[0, ::] [[ 1  2  3  4]\n",
      " [ 5  6  7  8]\n",
      " [ 9 10 11 12]] (3, 4)\n"
     ]
    }
   ],
   "source": [
    "print(\"b[0, ::],b[1, ::],b[-1, ::],b[0:2, ::]\")\n",
    "print(\"b[0, ::]\",b[0, ::], b[0, ::].shape)"
   ]
  },
  {
   "cell_type": "code",
   "execution_count": 4,
   "metadata": {
    "ExecuteTime": {
     "end_time": "2021-12-03T07:31:00.848034Z",
     "start_time": "2021-12-03T07:31:00.830029Z"
    }
   },
   "outputs": [
    {
     "name": "stdout",
     "output_type": "stream",
     "text": [
      "b[1, ::] [[13 14 15 16]\n",
      " [17 18 19 20]\n",
      " [21 22 23 24]] (3, 4)\n"
     ]
    }
   ],
   "source": [
    "print(\"b[1, ::]\",b[1, ::], b[1, ::].shape)"
   ]
  },
  {
   "cell_type": "code",
   "execution_count": 5,
   "metadata": {
    "ExecuteTime": {
     "end_time": "2021-12-03T07:31:00.864329Z",
     "start_time": "2021-12-03T07:31:00.849979Z"
    }
   },
   "outputs": [
    {
     "name": "stdout",
     "output_type": "stream",
     "text": [
      "b[-1, ::] [[25 26 27 28]\n",
      " [29 30 31 32]\n",
      " [33 34 35 36]] (3, 4)\n"
     ]
    }
   ],
   "source": [
    "print(\"b[-1, ::]\",b[-1, ::], b[-1, ::].shape)"
   ]
  },
  {
   "cell_type": "code",
   "execution_count": 6,
   "metadata": {
    "ExecuteTime": {
     "end_time": "2021-12-03T07:31:00.886388Z",
     "start_time": "2021-12-03T07:31:00.867859Z"
    }
   },
   "outputs": [
    {
     "name": "stdout",
     "output_type": "stream",
     "text": [
      "b[0:2, ::] [[[ 1  2  3  4]\n",
      "  [ 5  6  7  8]\n",
      "  [ 9 10 11 12]]\n",
      "\n",
      " [[13 14 15 16]\n",
      "  [17 18 19 20]\n",
      "  [21 22 23 24]]] (2, 3, 4)\n"
     ]
    }
   ],
   "source": [
    "print(\"b[0:2, ::]\",b[0:2, ::], b[0:2, ::].shape)"
   ]
  },
  {
   "cell_type": "code",
   "execution_count": 7,
   "metadata": {
    "ExecuteTime": {
     "end_time": "2021-12-03T07:31:00.909468Z",
     "start_time": "2021-12-03T07:31:00.887954Z"
    }
   },
   "outputs": [
    {
     "name": "stdout",
     "output_type": "stream",
     "text": [
      "b[:, 0:],b[:, 1:],b[:, -1:],b[:, 0:2:]\n"
     ]
    }
   ],
   "source": [
    "print(\"b[:, 0:],b[:, 1:],b[:, -1:],b[:, 0:2:]\")"
   ]
  },
  {
   "cell_type": "code",
   "execution_count": 8,
   "metadata": {
    "ExecuteTime": {
     "end_time": "2021-12-03T07:31:00.925503Z",
     "start_time": "2021-12-03T07:31:00.911366Z"
    }
   },
   "outputs": [
    {
     "name": "stdout",
     "output_type": "stream",
     "text": [
      "b[:, 0:] [[[ 1  2  3  4]\n",
      "  [ 5  6  7  8]\n",
      "  [ 9 10 11 12]]\n",
      "\n",
      " [[13 14 15 16]\n",
      "  [17 18 19 20]\n",
      "  [21 22 23 24]]\n",
      "\n",
      " [[25 26 27 28]\n",
      "  [29 30 31 32]\n",
      "  [33 34 35 36]]] (3, 3, 4)\n"
     ]
    }
   ],
   "source": [
    "print(\"b[:, 0:]\",b[:, 0:], b[:, 0:].shape)"
   ]
  },
  {
   "cell_type": "code",
   "execution_count": 9,
   "metadata": {
    "ExecuteTime": {
     "end_time": "2021-12-03T07:31:00.941160Z",
     "start_time": "2021-12-03T07:31:00.927096Z"
    }
   },
   "outputs": [
    {
     "name": "stdout",
     "output_type": "stream",
     "text": [
      "b[:, 1:] [[[ 5  6  7  8]\n",
      "  [ 9 10 11 12]]\n",
      "\n",
      " [[17 18 19 20]\n",
      "  [21 22 23 24]]\n",
      "\n",
      " [[29 30 31 32]\n",
      "  [33 34 35 36]]] (3, 2, 4)\n"
     ]
    }
   ],
   "source": [
    "print(\"b[:, 1:]\",b[:, 1:], b[:, 1:].shape)"
   ]
  },
  {
   "cell_type": "code",
   "execution_count": 10,
   "metadata": {
    "ExecuteTime": {
     "end_time": "2021-12-03T07:31:00.955154Z",
     "start_time": "2021-12-03T07:31:00.942913Z"
    }
   },
   "outputs": [
    {
     "name": "stdout",
     "output_type": "stream",
     "text": [
      "b[:, -1:] [[[ 9 10 11 12]]\n",
      "\n",
      " [[21 22 23 24]]\n",
      "\n",
      " [[33 34 35 36]]] (3, 1, 4)\n"
     ]
    }
   ],
   "source": [
    "print(\"b[:, -1:]\",b[:, -1:], b[:, -1:].shape)"
   ]
  },
  {
   "cell_type": "code",
   "execution_count": 11,
   "metadata": {
    "ExecuteTime": {
     "end_time": "2021-12-03T07:31:00.971735Z",
     "start_time": "2021-12-03T07:31:00.957205Z"
    }
   },
   "outputs": [
    {
     "name": "stdout",
     "output_type": "stream",
     "text": [
      "b[:, 0:2:] [[[ 1  2  3  4]\n",
      "  [ 5  6  7  8]]\n",
      "\n",
      " [[13 14 15 16]\n",
      "  [17 18 19 20]]\n",
      "\n",
      " [[25 26 27 28]\n",
      "  [29 30 31 32]]] (3, 2, 4)\n"
     ]
    }
   ],
   "source": [
    "print(\"b[:, 0:2:]\",b[:, 0:2:], b[:, 0:2:].shape)"
   ]
  },
  {
   "cell_type": "code",
   "execution_count": 12,
   "metadata": {
    "ExecuteTime": {
     "end_time": "2021-12-03T07:31:00.987205Z",
     "start_time": "2021-12-03T07:31:00.973486Z"
    }
   },
   "outputs": [
    {
     "name": "stdout",
     "output_type": "stream",
     "text": [
      "b[::, 0],b[::, 1],b[::, -1],b[::, 0:2:]\n"
     ]
    }
   ],
   "source": [
    "print(\"b[::, 0],b[::, 1],b[::, -1],b[::, 0:2:]\")"
   ]
  },
  {
   "cell_type": "code",
   "execution_count": 13,
   "metadata": {
    "ExecuteTime": {
     "end_time": "2021-12-03T07:31:01.003829Z",
     "start_time": "2021-12-03T07:31:00.989007Z"
    }
   },
   "outputs": [
    {
     "name": "stdout",
     "output_type": "stream",
     "text": [
      "b[::, 0] [[ 1  2  3  4]\n",
      " [13 14 15 16]\n",
      " [25 26 27 28]] (3, 4)\n"
     ]
    }
   ],
   "source": [
    "print(\"b[::, 0]\",b[::, 0], b[::, 0].shape)"
   ]
  },
  {
   "cell_type": "code",
   "execution_count": 14,
   "metadata": {
    "ExecuteTime": {
     "end_time": "2021-12-03T07:31:01.022863Z",
     "start_time": "2021-12-03T07:31:01.005924Z"
    }
   },
   "outputs": [
    {
     "name": "stdout",
     "output_type": "stream",
     "text": [
      "b[::, 1] [[ 5  6  7  8]\n",
      " [17 18 19 20]\n",
      " [29 30 31 32]] (3, 4)\n"
     ]
    }
   ],
   "source": [
    "print(\"b[::, 1]\",b[::, 1], b[::, 1].shape)"
   ]
  },
  {
   "cell_type": "code",
   "execution_count": 15,
   "metadata": {
    "ExecuteTime": {
     "end_time": "2021-12-03T07:31:01.038576Z",
     "start_time": "2021-12-03T07:31:01.025289Z"
    }
   },
   "outputs": [
    {
     "name": "stdout",
     "output_type": "stream",
     "text": [
      "b[::, -1] [[ 9 10 11 12]\n",
      " [21 22 23 24]\n",
      " [33 34 35 36]] (3, 4)\n"
     ]
    }
   ],
   "source": [
    "print(\"b[::, -1]\",b[::, -1], b[::, -1].shape)"
   ]
  },
  {
   "cell_type": "code",
   "execution_count": 16,
   "metadata": {
    "ExecuteTime": {
     "end_time": "2021-12-03T07:31:01.054764Z",
     "start_time": "2021-12-03T07:31:01.040101Z"
    }
   },
   "outputs": [
    {
     "name": "stdout",
     "output_type": "stream",
     "text": [
      "b[::, 0:2:] [[[ 1  2  3  4]\n",
      "  [ 5  6  7  8]]\n",
      "\n",
      " [[13 14 15 16]\n",
      "  [17 18 19 20]]\n",
      "\n",
      " [[25 26 27 28]\n",
      "  [29 30 31 32]]] (3, 2, 4)\n"
     ]
    }
   ],
   "source": [
    "print(\"b[::, 0:2:]\",b[::, 0:2:], b[::, 0:2].shape)"
   ]
  },
  {
   "cell_type": "code",
   "execution_count": 17,
   "metadata": {
    "ExecuteTime": {
     "end_time": "2021-12-03T07:31:01.083647Z",
     "start_time": "2021-12-03T07:31:01.056366Z"
    }
   },
   "outputs": [
    {
     "name": "stdout",
     "output_type": "stream",
     "text": [
      "b[:,:, 0],b[:,:, 1],b[:,:, -1],b[:,:, 0:2:]\n"
     ]
    }
   ],
   "source": [
    "print(\"b[:,:, 0],b[:,:, 1],b[:,:, -1],b[:,:, 0:2:]\")"
   ]
  },
  {
   "cell_type": "code",
   "execution_count": 18,
   "metadata": {
    "ExecuteTime": {
     "end_time": "2021-12-03T07:31:01.099545Z",
     "start_time": "2021-12-03T07:31:01.085139Z"
    }
   },
   "outputs": [
    {
     "name": "stdout",
     "output_type": "stream",
     "text": [
      "b[:, :, 0] [[ 1  5  9]\n",
      " [13 17 21]\n",
      " [25 29 33]] (3, 3)\n"
     ]
    }
   ],
   "source": [
    "print(\"b[:, :, 0]\",b[:, :, 0], b[:, :, 0].shape)"
   ]
  },
  {
   "cell_type": "code",
   "execution_count": 19,
   "metadata": {
    "ExecuteTime": {
     "end_time": "2021-12-03T07:31:01.118058Z",
     "start_time": "2021-12-03T07:31:01.101165Z"
    }
   },
   "outputs": [
    {
     "name": "stdout",
     "output_type": "stream",
     "text": [
      "b[:, :, 1] [[ 2  6 10]\n",
      " [14 18 22]\n",
      " [26 30 34]] (3, 3)\n"
     ]
    }
   ],
   "source": [
    "print(\"b[:, :, 1]\",b[:, :, 1], b[:, :, 1].shape)"
   ]
  },
  {
   "cell_type": "code",
   "execution_count": 20,
   "metadata": {
    "ExecuteTime": {
     "end_time": "2021-12-03T07:31:01.133879Z",
     "start_time": "2021-12-03T07:31:01.119768Z"
    }
   },
   "outputs": [
    {
     "name": "stdout",
     "output_type": "stream",
     "text": [
      "b[:, :, -1] [[ 4  8 12]\n",
      " [16 20 24]\n",
      " [28 32 36]] (3, 3)\n"
     ]
    }
   ],
   "source": [
    "print(\"b[:, :, -1]\",b[:, :, -1], b[:, :, -1].shape)"
   ]
  },
  {
   "cell_type": "code",
   "execution_count": 29,
   "metadata": {
    "ExecuteTime": {
     "end_time": "2021-12-03T07:42:06.727180Z",
     "start_time": "2021-12-03T07:42:06.721198Z"
    }
   },
   "outputs": [
    {
     "name": "stdout",
     "output_type": "stream",
     "text": [
      "b[:, :, ::-1] [[[ 4  3  2  1]\n",
      "  [ 8  7  6  5]\n",
      "  [12 11 10  9]]\n",
      "\n",
      " [[16 15 14 13]\n",
      "  [20 19 18 17]\n",
      "  [24 23 22 21]]\n",
      "\n",
      " [[28 27 26 25]\n",
      "  [32 31 30 29]\n",
      "  [36 35 34 33]]] (3, 3, 4)\n"
     ]
    }
   ],
   "source": [
    "print(\"b[:, :, ::-1]\",b[:, :,::-1],b[:, :, ::-1].shape)"
   ]
  }
 ],
 "metadata": {
  "kernelspec": {
   "display_name": "Python [conda env:new] *",
   "language": "python",
   "name": "conda-env-new-py"
  },
  "language_info": {
   "codemirror_mode": {
    "name": "ipython",
    "version": 3
   },
   "file_extension": ".py",
   "mimetype": "text/x-python",
   "name": "python",
   "nbconvert_exporter": "python",
   "pygments_lexer": "ipython3",
   "version": "3.8.2"
  },
  "toc": {
   "base_numbering": 1,
   "nav_menu": {},
   "number_sections": true,
   "sideBar": true,
   "skip_h1_title": false,
   "title_cell": "Table of Contents",
   "title_sidebar": "Contents",
   "toc_cell": false,
   "toc_position": {},
   "toc_section_display": true,
   "toc_window_display": false
  }
 },
 "nbformat": 4,
 "nbformat_minor": 4
}
